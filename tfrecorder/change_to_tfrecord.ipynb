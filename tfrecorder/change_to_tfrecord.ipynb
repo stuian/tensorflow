{
 "cells": [
  {
   "cell_type": "code",
   "execution_count": null,
   "metadata": {
    "collapsed": true
   },
   "outputs": [],
   "source": [
    "import tensorflow as tf\n",
    "import numpy as np\n",
    "import os\n",
    "import matplotlib.pyplot as plt\n",
    "import skimage.io as io\n"
   ]
  },
  {
   "cell_type": "code",
   "execution_count": null,
   "metadata": {
    "collapsed": true
   },
   "outputs": [],
   "source": [
    "def get_file(file_dir):\n",
    "    ''' 得到图片以及图片对应的labels\n",
    "\n",
    "    Returns:\n",
    "        images: image directiories, list, string\n",
    "        labels: label, list, int\n",
    "    '''\n",
    "\n",
    "    images = []\n",
    "    temp = []\n",
    "    for root, sub_folders, files in os.walk(file_dir):    #获得根目录，子文件夹和文件夹下所有的文件\n",
    "        for name in files:\n",
    "            images.append(os.path.join(root, name))       #获得图片的绝对路径\n",
    "        for name in sub_folders:\n",
    "            temp.append(os.path.join(root, name))        #获得子文件夹即标签的绝对路径\n",
    "\n",
    "\n",
    "    labels = []\n",
    "    for one_folder in temp:\n",
    "        number_img = len(os.listdir(one_folder))\n",
    "        letter = one_folder.split('/')[-1]             #分割路径，取得最后的label\n",
    "        print(letter)\n",
    "        if letter == 'A':\n",
    "            labels = np.append(labels, number_img * [1])\n",
    "        elif letter == 'B':\n",
    "            labels = np.append(labels, number_img * [2])\n",
    "        elif letter == 'C':\n",
    "            labels = np.append(labels, number_img * [3])\n",
    "        elif letter == 'D':\n",
    "            labels = np.append(labels, number_img * [4])\n",
    "        elif letter == 'E':\n",
    "            labels = np.append(labels, number_img * [5])\n",
    "        elif letter == 'F':\n",
    "            labels = np.append(labels, number_img * [6])\n",
    "        elif letter == 'G':\n",
    "            labels = np.append(labels, number_img * [7])\n",
    "        elif letter == 'H':\n",
    "            labels = np.append(labels, number_img * [8])\n",
    "        elif letter == 'I':\n",
    "            labels = np.append(labels, number_img * [9])\n",
    "        else:\n",
    "            labels = np.append(labels, number_img * [10])\n",
    "\n",
    "    # shuffle  组合image和label并且打乱顺序\n",
    "    temp = np.array([images, labels])\n",
    "    temp = temp.transpose()\n",
    "    np.random.shuffle(temp)\n",
    "\n",
    "    images_list = list(temp[:, 0])\n",
    "    labels_list = list(temp[:, 1])\n",
    "    labels_list = [int(float(i)) for i in labels_list]\n",
    "    return images_list, labels_list\n",
    "\n"
   ]
  },
  {
   "cell_type": "code",
   "execution_count": null,
   "metadata": {
    "collapsed": true
   },
   "outputs": [],
   "source": [
    "file_dir = '../data/notMNIST_small'\n",
    "images, labels = get_file(file_dir)\n",
    "print(\"hello :\",images)\n",
    "print(labels)"
   ]
  },
  {
   "cell_type": "code",
   "execution_count": null,
   "metadata": {
    "collapsed": true
   },
   "outputs": [],
   "source": [
    "#TFRecord 需要转换一下格式  label用做int64\n",
    "\n",
    "def int64_feature(value):\n",
    "#Wrapper for inserting int64 features into Example proto.\n",
    "    if not isinstance(value, list):\n",
    "        value = [value]\n",
    "    return tf.train.Feature(int64_list=tf.train.Int64List(value=value))\n",
    "\n",
    "#image 用作bytes\n",
    "def bytes_feature(value):\n",
    "    return tf.train.Feature(bytes_list=tf.train.BytesList(value=[value]))\n"
   ]
  },
  {
   "cell_type": "code",
   "execution_count": null,
   "metadata": {
    "collapsed": true
   },
   "outputs": [],
   "source": [
    "\n",
    "def convert_to_tfrecord(images, labels, save_dir, name):\n",
    "    '''\n",
    "\n",
    "    :param images:  list of iamge directories, string type\n",
    "    :param labels:  list of labels, int type\n",
    "    :param save_dir:  the directories to save tfrecord\n",
    "    :param name:  the name of tfrecord file, string type\n",
    "    :return:\n",
    "    '''\n",
    "\n",
    "    filename = os.path.join(save_dir, name + '.tfrecords')\n",
    "    number_sample = len(labels)\n",
    "\n",
    "    if np.shape(images)[0] != number_sample:\n",
    "        raise ValueError('Images size %d does not match label size %d.'\n",
    "                         % (images.shape[0], number_sample))\n",
    "\n",
    "    writer = tf.python_io.TFRecordWriter(filename)\n",
    "    print('start........')\n",
    "    for i in np.arange(0, number_sample):\n",
    "        try:\n",
    "            image = io.imread(images[i])  # type(image) must be array\n",
    "            image_raw = image.tostring()  #将图像矩阵转化为一个字符串\n",
    "            label = int(labels[i])\n",
    "             #将一个样例转化为Example Protocol Buffer，并将所有需要的信息写入数据结构\n",
    "            example = tf.train.Example(features=tf.train.Features(feature={\n",
    "                'label':int64_feature(label),\n",
    "                'image_raw':bytes_feature(image_raw)\n",
    "            }))\n",
    "            #将example写入TFRecord文件\n",
    "            writer.write(example.SerializeToString())\n",
    "        except IOError as exc:\n",
    "            print(\"maybe con't read the \",images[i])\n",
    "            print('error: %s' %exc)\n",
    "            print('skip the image\\n')\n",
    "    writer.close()\n",
    "    print('done!......')\n"
   ]
  },
  {
   "cell_type": "code",
   "execution_count": null,
   "metadata": {
    "collapsed": true
   },
   "outputs": [],
   "source": [
    "\n",
    "def read_and_decode(tfrecord_file, batch_size):  #生成(image,lable)的batch用作测试\n",
    "    '''\n",
    "\n",
    "    :param tfrecord_file: the directory of tfrecord file\n",
    "    :param batch_size:  batch_size hh\n",
    "    :return: image: 4D tensor - [batch_size, width, height, channel]\n",
    "             label: 1D tensor - [batch_size]\n",
    "    '''\n",
    "    #创建一个producer 为了读入tfrecord\n",
    "    file_queue = tf.train.string_input_producer([tfrecord_file])\n",
    "    \n",
    "    #创建一个reader来读取TFRecord文件中的样例\n",
    "    #TFRecordReader会一直弹出队列中文件的名字，直到队列为空。\n",
    "    reader = tf.TFRecordReader()\n",
    "    _, visual_example = reader.read(file_queue)\n",
    "    #将字符串解析成图像对应的像素数组\n",
    "    image_features = tf.parse_single_example(\n",
    "                                visual_example,\n",
    "                                features={\n",
    "                                    'label': tf.FixedLenFeature([], tf.int64),\n",
    "                                    'image_raw': tf.FixedLenFeature([], tf.string),\n",
    "                                })\n",
    "    \n",
    "    image = tf.decode_raw(image_features['image_raw'], tf.uint8)\n",
    "    #\n",
    "    #  \n",
    "    #\n",
    "    image = tf.reshape(image, [28, 28])\n",
    "    label = tf.cast(image_features['label'], tf.int32)\n",
    "    #使用shuffle_batch可以随机打乱输入\n",
    "    image_batch, label_batch = tf.train.shuffle_batch([image, label],\n",
    "                                              batch_size=batch_size,\n",
    "                                              capacity=2000,\n",
    "                                              min_after_dequeue=1000\n",
    "                                              )  #随机获得 batch ，可以调整线程数量，队列中最大元素等\n",
    "    return image_batch, tf.reshape(label_batch, [batch_size])\n",
    "\n",
    "'''\n",
    "比如batch_size=5,capacity=10,min_after_dequeue=5,\n",
    "初始是有序的0,1，..,9(10条记录)，\n",
    "然后打乱8,2,6,4,3,7,9,2,0,1(10条记录),\n",
    "队尾取出5条，剩下7,9,2,0,1(5条记录),\n",
    "然后又按顺序补充进来，变成7,9,2,0,1,10,11,12,13,14(10条记录)，\n",
    "再打乱13,10,2,7,0,12...1(10条记录)，\n",
    "再出队...\n",
    "'''\n"
   ]
  },
  {
   "cell_type": "code",
   "execution_count": null,
   "metadata": {
    "collapsed": true
   },
   "outputs": [],
   "source": [
    "\n",
    "file_dir = '../data/notMNIST_small'\n",
    "save_dir = '../data'\n",
    "batch_size = 25\n",
    "tfrecord_name = 'test'\n",
    "\n",
    "images,labels = get_file(file_dir)\n",
    "convert_to_tfrecord(images, labels, save_dir, tfrecord_name)\n"
   ]
  },
  {
   "cell_type": "code",
   "execution_count": null,
   "metadata": {
    "collapsed": true
   },
   "outputs": [],
   "source": [
    "def plot_images(images, labels,batch_size):\n",
    "\n",
    "    for i in np.arange(0,batch_size):\n",
    "        plt.subplot(np.sqrt(batch_size),np.sqrt(batch_size), i + 1)\n",
    "        plt.axis('off')\n",
    "        plt.title(chr(ord('A') + labels[i] - 1),fontsize=14)\n",
    "        plt.subplots_adjust(top=1.5)\n",
    "        plt.imshow(images[i])\n",
    "    plt.show()"
   ]
  },
  {
   "cell_type": "code",
   "execution_count": null,
   "metadata": {
    "collapsed": true
   },
   "outputs": [],
   "source": [
    "tfrecord_file = '../data/test.tfrecords'\n",
    "image_batch, label_batch = read_and_decode(tfrecord_file,batch_size)"
   ]
  },
  {
   "cell_type": "code",
   "execution_count": null,
   "metadata": {
    "collapsed": true
   },
   "outputs": [],
   "source": [
    "with tf.Session() as sess:\n",
    "    i = 0\n",
    "    coord = tf.train.Coordinator()\n",
    "    threads = tf.train.start_queue_runners(coord=coord)\n",
    "\n",
    "    try:\n",
    "        while not coord.should_stop() and i < 2:\n",
    "\n",
    "            image, label = sess.run([image_batch, label_batch])\n",
    "            plot_images(image, label,batch_size)\n",
    "            i += 1\n",
    "\n",
    "    except tf.errors.OutOfRangeError:\n",
    "        print('done!')\n",
    "    finally:\n",
    "        coord.request_stop()\n",
    "    coord.join(threads)\n"
   ]
  },
  {
   "cell_type": "code",
   "execution_count": null,
   "metadata": {
    "collapsed": true
   },
   "outputs": [],
   "source": []
  },
  {
   "cell_type": "code",
   "execution_count": null,
   "metadata": {
    "collapsed": true
   },
   "outputs": [],
   "source": []
  }
 ],
 "metadata": {
  "kernelspec": {
   "display_name": "Python 3",
   "language": "python",
   "name": "python3"
  },
  "language_info": {
   "codemirror_mode": {
    "name": "ipython",
    "version": 3
   },
   "file_extension": ".py",
   "mimetype": "text/x-python",
   "name": "python",
   "nbconvert_exporter": "python",
   "pygments_lexer": "ipython3",
   "version": "3.6.3"
  }
 },
 "nbformat": 4,
 "nbformat_minor": 2
}
