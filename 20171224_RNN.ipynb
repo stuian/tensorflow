{
 "cells": [
  {
   "cell_type": "code",
   "execution_count": 12,
   "metadata": {
    "collapsed": true
   },
   "outputs": [],
   "source": [
    "import tensorflow as tf\n",
    "import numpy as np"
   ]
  },
  {
   "cell_type": "code",
   "execution_count": 13,
   "metadata": {
    "collapsed": true
   },
   "outputs": [],
   "source": [
    "def reset_graph(seed=42):\n",
    "    tf.reset_default_graph()\n",
    "    tf.set_random_seed(seed)\n",
    "    np.random.seed(seed)"
   ]
  },
  {
   "cell_type": "code",
   "execution_count": 14,
   "metadata": {},
   "outputs": [],
   "source": [
    "#example\n",
    "n_inputs = 3\n",
    "n_neurons = 5\n",
    "\n",
    "#numpy:做拼接会很慢\n",
    "#tensorflow:比numpy还快\n",
    "\n",
    "#batch_size = 4\n",
    "#n_step = 2\n",
    "\n",
    "#[n_step,batch,n_inputs] 本代码的方法\n",
    "#[batch,n_step,n_inputs] MLP/CNN\n",
    "\n",
    "X0_batch = np.array([[0,1,2],[3,4,5],[6,7,8],[9,0,1]]) #t =0\n",
    "X1_batch = np.array([[9,8,7],[0,0,0],[6,5,4],[3,2,1]]) #t =1"
   ]
  },
  {
   "cell_type": "code",
   "execution_count": 15,
   "metadata": {
    "collapsed": true
   },
   "outputs": [],
   "source": [
    "#example2\n",
    "# n_steps = 2\n",
    "# n_inputs = \n",
    "\n",
    "# X_batch = "
   ]
  },
  {
   "cell_type": "code",
   "execution_count": 16,
   "metadata": {
    "collapsed": true
   },
   "outputs": [],
   "source": [
    "reset_graph()"
   ]
  },
  {
   "cell_type": "code",
   "execution_count": 17,
   "metadata": {},
   "outputs": [],
   "source": [
    "X0 = tf.placeholder(tf.float32,[None,n_inputs])\n",
    "X1 = tf.placeholder(tf.float32,[None,n_inputs])"
   ]
  },
  {
   "cell_type": "markdown",
   "metadata": {},
   "source": [
    "# variables to optimized"
   ]
  },
  {
   "cell_type": "code",
   "execution_count": 18,
   "metadata": {
    "collapsed": true
   },
   "outputs": [],
   "source": [
    "#shape(Wx) == [n_inputs,n_neurons]\n",
    "init_Wx = tf.random_normal([n_inputs,n_neurons])\n",
    "Wx = tf.Variable(init_Wx)\n",
    "\n",
    "#shape(Wy) == [n_neurons,n_neurons]\n",
    "init_Wy = tf.random_normal([n_neurons,n_neurons])\n",
    "Wy = tf.Variable(init_Wy)\n",
    "\n",
    "#shape(b) = [n_neurons]\n",
    "init_b = tf.zeros([n_neurons])\n",
    "b = tf.Variable(init_b)"
   ]
  },
  {
   "cell_type": "markdown",
   "metadata": {},
   "source": [
    "# model"
   ]
  },
  {
   "cell_type": "code",
   "execution_count": 20,
   "metadata": {},
   "outputs": [],
   "source": [
    "sigma_Y0 = tf.matmul(X0,Wx) + b #broadcasting\n",
    "Y0 = tf.tanh(sigma_Y0)\n",
    "\n",
    "#RNN\n",
    "sigma_Y1 = tf.matmul(X1,Wx) + tf.matmul(Y0,Wy) +  b \n",
    "Y1 = tf.tanh(sigma_Y1)"
   ]
  },
  {
   "cell_type": "markdown",
   "metadata": {},
   "source": [
    "# session"
   ]
  },
  {
   "cell_type": "code",
   "execution_count": 21,
   "metadata": {},
   "outputs": [
    {
     "name": "stdout",
     "output_type": "stream",
     "text": [
      "[[-0.0664006   0.96257669  0.68105793  0.70918542 -0.89821601]\n",
      " [ 0.9977755  -0.71978903 -0.99657607  0.96739239 -0.99989718]\n",
      " [ 0.99999774 -0.99898803 -0.99999893  0.99677622 -0.99999988]\n",
      " [ 1.         -1.         -1.         -0.99818915  0.99950868]]\n",
      "[[ 1.         -1.         -1.          0.40200251 -0.99999982]\n",
      " [-0.12210421  0.62805271  0.96718431 -0.99371219 -0.25839362]\n",
      " [ 0.99999827 -0.9999994  -0.9999975  -0.85943311 -0.99998808]\n",
      " [ 0.99928284 -0.99999815 -0.99990582  0.98579627 -0.92205757]]\n"
     ]
    }
   ],
   "source": [
    "init = tf.global_variables_initializer()\n",
    "\n",
    "with tf.Session() as sess:\n",
    "    sess.run(init)\n",
    "    \n",
    "    Y0_val,Y1_val = sess.run([Y0,Y1],feed_dict = {X0:X0_batch,X1:X1_batch})\n",
    "    \n",
    "    print(Y0_val)\n",
    "    print(Y1_val)"
   ]
  },
  {
   "cell_type": "code",
   "execution_count": null,
   "metadata": {
    "collapsed": true
   },
   "outputs": [],
   "source": []
  }
 ],
 "metadata": {
  "kernelspec": {
   "display_name": "Python 3",
   "language": "python",
   "name": "python3"
  },
  "language_info": {
   "codemirror_mode": {
    "name": "ipython",
    "version": 3
   },
   "file_extension": ".py",
   "mimetype": "text/x-python",
   "name": "python",
   "nbconvert_exporter": "python",
   "pygments_lexer": "ipython3",
   "version": "3.6.3"
  }
 },
 "nbformat": 4,
 "nbformat_minor": 2
}
