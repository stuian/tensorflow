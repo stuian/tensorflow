{
 "cells": [
  {
   "cell_type": "code",
   "execution_count": 1,
   "metadata": {
    "collapsed": true
   },
   "outputs": [],
   "source": [
    "import tensorflow as tf\n",
    "import numpy as np\n",
    "import matplotlib.pyplot as plt"
   ]
  },
  {
   "cell_type": "code",
   "execution_count": 2,
   "metadata": {
    "collapsed": true
   },
   "outputs": [],
   "source": [
    "def reset_graph(seed = 318):\n",
    "    tf.reset_default_graph()\n",
    "    tf.set_random_seed(seed)\n",
    "    np.random.seed(seed)"
   ]
  },
  {
   "cell_type": "code",
   "execution_count": 3,
   "metadata": {
    "collapsed": true
   },
   "outputs": [],
   "source": [
    "from tensorflow.examples.tutorials.mnist import input_data"
   ]
  },
  {
   "cell_type": "code",
   "execution_count": 4,
   "metadata": {},
   "outputs": [
    {
     "name": "stdout",
     "output_type": "stream",
     "text": [
      "Extracting data/mnist\\train-images-idx3-ubyte.gz\n",
      "Extracting data/mnist\\train-labels-idx1-ubyte.gz\n",
      "Extracting data/mnist\\t10k-images-idx3-ubyte.gz\n",
      "Extracting data/mnist\\t10k-labels-idx1-ubyte.gz\n"
     ]
    }
   ],
   "source": [
    "mnist = input_data.read_data_sets(\"data/mnist\",one_hot= True)"
   ]
  },
  {
   "cell_type": "code",
   "execution_count": 14,
   "metadata": {
    "collapsed": true
   },
   "outputs": [],
   "source": [
    "img_height = 28\n",
    "img_weight = 28\n",
    "img_size = 28*28\n",
    "img_channels = 1\n",
    "img_classes = 10\n",
    "\n",
    "kernel_height = 5\n",
    "kernel_width = 5\n",
    "# input:\n",
    "# \n",
    "# kernel=[kernel_height.kernel_weight,last_n_kernel,cur_n_kernels]\n",
    "# padding = \"SAME\"\n",
    "#\n",
    "# output:\n",
    "#     [None, img_height, img_weight,cur_n_kernels]\n",
    "n_kernels_conv1 = 32\n",
    "n_kernels_conv2 = 18\n",
    "n_neurons_dense1 = 24\n",
    "n_neurons_dense2 = 10\n",
    "n_outputs = 10\n",
    "learning_rate = 1e-4\n",
    "\n",
    "n_neurons = 50\n",
    "\n",
    "n_epochs = 20\n",
    "\n",
    "batch_size = 100"
   ]
  },
  {
   "cell_type": "code",
   "execution_count": 15,
   "metadata": {
    "collapsed": true
   },
   "outputs": [],
   "source": [
    "reset_graph()\n",
    "\n",
    "x = tf.placeholder(tf.float32,[None, img_size*img_channels])\n",
    "\n",
    "y = tf.placeholder(tf.float32,[None, img_classes])"
   ]
  },
  {
   "cell_type": "markdown",
   "metadata": {},
   "source": [
    "# model"
   ]
  },
  {
   "cell_type": "code",
   "execution_count": null,
   "metadata": {
    "collapsed": true
   },
   "outputs": [],
   "source": [
    "basic_cell = tf.contrib.rnn.BasicRNNCell(n_neurons,tf.nn.relu)\n",
    "outputs,states = tf.nn.dynamic_rnn(basic_cell,x,dtype = tf.float32)\n",
    "\n",
    "prediction = tf.layers.dense(outputs,img_classes)"
   ]
  },
  {
   "cell_type": "code",
   "execution_count": 16,
   "metadata": {
    "collapsed": true
   },
   "outputs": [],
   "source": [
    "# w.shape = [kernel_height.kernel_weight,input_channels,Now_kernels]\n",
    "# b.shape = [Now_kernels]\n",
    "# x.shape = [None, img_height , img_weight ,input_channels]\n",
    "# x,w,b,activation\n",
    "# def conv_layer(x ,n_kernels, activation = None):\n",
    "#     n_inputs = int(x.get_shape()[-1])\n",
    "#     stddev = 2 / np.sqrt(n_inputs)\n",
    "#     w_init = tf.truncated_normal([kernel_height,kernel_weight,n_inputs,n_kernels],stddev=stddev)\n",
    "#     w=tf.Variable(w_init)\n",
    "    \n",
    "#     b_init=tf.zeros([n_kernels],tf.float32)\n",
    "#     b = tf.Variable(b_init)\n",
    "    \n",
    "#     # Convolution (sigma)\n",
    "#     conv = tf.nn.conv2d(x , w, strides = [1,1,1,1],padding = 'SAME')\n",
    "#     sigma = conv + b  #broadcasting\n",
    "    \n",
    "#     # 非线性变换\n",
    "#     if activation is not None:\n",
    "#         act = activation(sigma)\n",
    "#     else:\n",
    "#         act = sigma\n",
    "    \n",
    "#     # pooling\n",
    "#     # strides 做覆盖不做重叠\n",
    "#     pool = tf.nn.max_pool(act, ksize=[1,2,2,1], strides=[1,2,2,1],padding=\"SAME\")\n",
    "#     return pool"
   ]
  },
  {
   "cell_type": "code",
   "execution_count": 17,
   "metadata": {
    "collapsed": true
   },
   "outputs": [],
   "source": [
    "# x.shape=[None,pic_size*pic_size]\n",
    "# w.shape=[n_inputs,n_nerurons]\n",
    "# b.shape=[n_neurons]\n",
    "# def dense_layer(x,n_neurons,activation = None):\n",
    "#     n_inputs = int(x.get_shape()[-1])\n",
    "#     stddev = 2 / np.sqrt(n_inputs)\n",
    "#     w_init = tf.truncated_normal([n_inputs,n_neurons])\n",
    "#     w = tf.Variable(w_init)\n",
    "    \n",
    "#     b_init = tf.zeros([n_neurons])\n",
    "#     b= tf.Variable(b_init)\n",
    "    \n",
    "#     sigma = tf.matmul(x,w)+b\n",
    "    \n",
    "#     if activation is not None:\n",
    "#         act = activation(sigma)\n",
    "#     else:\n",
    "#         act = sigma\n",
    "#     return act"
   ]
  },
  {
   "cell_type": "code",
   "execution_count": 19,
   "metadata": {},
   "outputs": [
    {
     "ename": "ValueError",
     "evalue": "Rank mismatch: Rank of labels (received 2) should equal rank of logits minus 1 (received 2).",
     "output_type": "error",
     "traceback": [
      "\u001b[1;31m---------------------------------------------------------------------------\u001b[0m",
      "\u001b[1;31mValueError\u001b[0m                                Traceback (most recent call last)",
      "\u001b[1;32m<ipython-input-19-d6c3afc63f92>\u001b[0m in \u001b[0;36m<module>\u001b[1;34m()\u001b[0m\n\u001b[0;32m     20\u001b[0m \u001b[0mprediction\u001b[0m \u001b[1;33m=\u001b[0m \u001b[0mtf\u001b[0m\u001b[1;33m.\u001b[0m\u001b[0mlayers\u001b[0m\u001b[1;33m.\u001b[0m\u001b[0mdense\u001b[0m\u001b[1;33m(\u001b[0m\u001b[0mdense2\u001b[0m\u001b[1;33m,\u001b[0m\u001b[0mimg_classes\u001b[0m\u001b[1;33m)\u001b[0m\u001b[1;33m\u001b[0m\u001b[0m\n\u001b[0;32m     21\u001b[0m \u001b[1;33m\u001b[0m\u001b[0m\n\u001b[1;32m---> 22\u001b[1;33m \u001b[0mcross_entropy\u001b[0m \u001b[1;33m=\u001b[0m \u001b[0mtf\u001b[0m\u001b[1;33m.\u001b[0m\u001b[0mnn\u001b[0m\u001b[1;33m.\u001b[0m\u001b[0msparse_softmax_cross_entropy_with_logits\u001b[0m\u001b[1;33m(\u001b[0m\u001b[0mlabels\u001b[0m\u001b[1;33m=\u001b[0m\u001b[0my\u001b[0m\u001b[1;33m,\u001b[0m\u001b[0mlogits\u001b[0m\u001b[1;33m=\u001b[0m\u001b[0mprediction\u001b[0m\u001b[1;33m)\u001b[0m\u001b[1;33m\u001b[0m\u001b[0m\n\u001b[0m\u001b[0;32m     23\u001b[0m \u001b[1;33m\u001b[0m\u001b[0m\n\u001b[0;32m     24\u001b[0m \u001b[0mcorrect\u001b[0m \u001b[1;33m=\u001b[0m \u001b[0mtf\u001b[0m\u001b[1;33m.\u001b[0m\u001b[0mnn\u001b[0m\u001b[1;33m.\u001b[0m\u001b[0min_top_k\u001b[0m\u001b[1;33m(\u001b[0m\u001b[0mprediction\u001b[0m\u001b[1;33m,\u001b[0m\u001b[0my\u001b[0m\u001b[1;33m,\u001b[0m\u001b[1;36m1\u001b[0m\u001b[1;33m)\u001b[0m\u001b[1;33m\u001b[0m\u001b[0m\n",
      "\u001b[1;32m~\\AppData\\Local\\Continuum\\anaconda3\\lib\\site-packages\\tensorflow\\python\\ops\\nn_ops.py\u001b[0m in \u001b[0;36msparse_softmax_cross_entropy_with_logits\u001b[1;34m(_sentinel, labels, logits, name)\u001b[0m\n\u001b[0;32m   1684\u001b[0m       raise ValueError(\"Rank mismatch: Rank of labels (received %s) should \"\n\u001b[0;32m   1685\u001b[0m                        \u001b[1;34m\"equal rank of logits minus 1 (received %s).\"\u001b[0m \u001b[1;33m%\u001b[0m\u001b[1;33m\u001b[0m\u001b[0m\n\u001b[1;32m-> 1686\u001b[1;33m                        (labels_static_shape.ndims, logits.get_shape().ndims))\n\u001b[0m\u001b[0;32m   1687\u001b[0m     \u001b[1;31m# Check if no reshapes are required.\u001b[0m\u001b[1;33m\u001b[0m\u001b[1;33m\u001b[0m\u001b[0m\n\u001b[0;32m   1688\u001b[0m     \u001b[1;32mif\u001b[0m \u001b[0mlogits\u001b[0m\u001b[1;33m.\u001b[0m\u001b[0mget_shape\u001b[0m\u001b[1;33m(\u001b[0m\u001b[1;33m)\u001b[0m\u001b[1;33m.\u001b[0m\u001b[0mndims\u001b[0m \u001b[1;33m==\u001b[0m \u001b[1;36m2\u001b[0m\u001b[1;33m:\u001b[0m\u001b[1;33m\u001b[0m\u001b[0m\n",
      "\u001b[1;31mValueError\u001b[0m: Rank mismatch: Rank of labels (received 2) should equal rank of logits minus 1 (received 2)."
     ]
    }
   ],
   "source": [
    "# x_conv = tf.reshape(x, [-1 , img_height,img_weight,img_channels])\n",
    "# conv1 = tf.layers.conv2d(x_conv,n_kernels_conv1,\n",
    "#                         kernel_size = (kernel_height,kernel_width),\n",
    "#                         strides = (1,1),\n",
    "#                         padding = 'same',activation=tf.nn.relu)\n",
    "# pool1 = tf.layers.max_pooling2d(conv1,(2,2),strides =(2,2),padding='same')\n",
    "\n",
    "# conv2 = tf.layers.conv2d(pool1,n_kernels_conv2,\n",
    "#                         kernel_size = (kernel_height,kernel_width),\n",
    "#                         strides = (1,1),\n",
    "#                         padding = 'same',activation=tf.nn.relu)\n",
    "# pool2 = tf.layers.max_pooling2d(conv2,(2,2),strides =(2,2),padding='same')\n",
    "\n",
    "# x_dense = tf.reshape(pool2, [-1, 7*7*n_kernels_conv2])\n",
    "\n",
    "# dense1 = tf.layers.dense(x_dense,n_neurons_dense1,activation=tf.nn.tanh)\n",
    "\n",
    "# dense2 = tf.layers.dense(dense1,n_neurons_dense2,activation=tf.nn.tanh)\n",
    "\n",
    "# prediction = tf.layers.dense(dense2,img_classes)\n",
    "\n",
    "# cross_entropy = tf.nn.sparse_softmax_cross_entropy_with_logits(labels=y,logits=prediction)\n",
    "\n",
    "# correct = tf.nn.in_top_k(prediction,y,1)\n",
    "# accuracy = tf.reduce_mean(tf.cast(correct,tf.float32))"
   ]
  },
  {
   "cell_type": "code",
   "execution_count": null,
   "metadata": {
    "collapsed": true
   },
   "outputs": [],
   "source": [
    "# 把输入变成卷积网络输入所要求的格式\n",
    "# x_conv = tf.reshape(x, [-1 , img_height*img_weight*img_channels])\n",
    "\n",
    "# conv1 = conv_layer(x_conv,n_kernels_conv1,tf.nn.relu)\n",
    "# conv2 = conv_layer(conv1,n_kernels_conv2,tf.nn.relu)\n",
    "\n",
    "# # 把上一层的输出数据格式转化成全连接网络输入要的格式\n",
    "# x_dense = tf.reshape(conv2, [-1, 7*7*n_kernels_conv2])\n",
    "\n",
    "# dense1 = dense_layer(x_dense,n_neurons_dense1,tf.nn.tanh)\n",
    "# dense2 = dense_layer(dense1,n_neurons_dense2,tf.nn.tanh)\n",
    "\n",
    "# prediction = dense_layer(dense2,n_outputs,tf.nn.softmax)"
   ]
  },
  {
   "cell_type": "code",
   "execution_count": null,
   "metadata": {
    "collapsed": true
   },
   "outputs": [],
   "source": [
    "# cross_entropy = tf.nn.softmax_cross_entropy_with_logits(labels = y,logits=prediction)\n",
    "loss = tf.reduce_mean(cross_entropy)\n",
    "train = tf.train.AdamOptimizer(learning_rate).minimize(loss)"
   ]
  },
  {
   "cell_type": "code",
   "execution_count": null,
   "metadata": {
    "collapsed": true
   },
   "outputs": [],
   "source": [
    "# y.shape=[None,img_classes]\n",
    "# current = tf.equal(tf.argmax(y,1),tf.argmax(prediction,1))\n",
    "# accuracy = tf.reduce_mean(tf.cast(current,tf.float32))"
   ]
  },
  {
   "cell_type": "code",
   "execution_count": null,
   "metadata": {
    "collapsed": true
   },
   "outputs": [],
   "source": [
    "# 存储器\n",
    "loss_summary = tf.summary.scalar('loss',loss)\n",
    "acc_summary = tf.summary.scalar('acc',accuracy)\n",
    "merged = tf.summary.merge_all()\n",
    "\n",
    "# 写出到磁盘\n",
    "log_dir = 'data/mnist_logs/'\n",
    "file_writer = tf.summary.FileWriter(log_dir,tf.get_default_graph())\n",
    "\n",
    "model_path = 'data/mnist_models/'\n",
    "saver = tf.train.Saver()"
   ]
  },
  {
   "cell_type": "code",
   "execution_count": null,
   "metadata": {},
   "outputs": [],
   "source": [
    "\n",
    "init = tf.global_variables_initializer()\n",
    "\n",
    "\n",
    "with tf.Session() as sess:\n",
    "    sess.run(init)\n",
    "#     saver.restore(sess,model_path)\n",
    "    for ep in range (n_epochs):\n",
    "        x_batch,y_batch = mnist.train.next_batch(batch_size)\n",
    "        merged_dir,train_val ,_ = sess.run([merged,accuracy,train],feed_dict={x:x_batch,y:y_batch})\n",
    "        \n",
    "        x_batch,y_batch = mnist.train.next_batch(batch_size)\n",
    "        test_acc = sess.run(accuracy,feed_dict={x:x_batch,y:y_batch})\n",
    "        \n",
    "        file_writer.add_summary(merged_dir, ep)\n",
    "        print(\"epoch: \",str(ep),\" train_acc: \",str(train_val),\" test_acc: \",str(test_acc))\n",
    "    file_writer.close()\n",
    "    saver.save(sess,model_path)"
   ]
  },
  {
   "cell_type": "code",
   "execution_count": null,
   "metadata": {},
   "outputs": [],
   "source": [
    "print (mnist.test.num_examples)"
   ]
  },
  {
   "cell_type": "code",
   "execution_count": null,
   "metadata": {
    "collapsed": true
   },
   "outputs": [],
   "source": []
  }
 ],
 "metadata": {
  "kernelspec": {
   "display_name": "Python 3",
   "language": "python",
   "name": "python3"
  },
  "language_info": {
   "codemirror_mode": {
    "name": "ipython",
    "version": 3
   },
   "file_extension": ".py",
   "mimetype": "text/x-python",
   "name": "python",
   "nbconvert_exporter": "python",
   "pygments_lexer": "ipython3",
   "version": "3.6.3"
  }
 },
 "nbformat": 4,
 "nbformat_minor": 2
}
