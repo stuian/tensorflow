{
 "cells": [
  {
   "cell_type": "code",
   "execution_count": 8,
   "metadata": {
    "collapsed": true
   },
   "outputs": [],
   "source": [
    "import tensorflow as tf\n",
    "import numpy as np\n",
    "import matplotlib.pyplot as plt"
   ]
  },
  {
   "cell_type": "code",
   "execution_count": 9,
   "metadata": {
    "collapsed": true
   },
   "outputs": [],
   "source": [
    "def reset_graph(seed = 318):\n",
    "    tf.reset_default_graph()\n",
    "    tf.set_random_seed(seed)\n",
    "    np.random.seed(seed)"
   ]
  },
  {
   "cell_type": "code",
   "execution_count": 10,
   "metadata": {
    "collapsed": true
   },
   "outputs": [],
   "source": [
    "from tensorflow.examples.tutorials.mnist import input_data"
   ]
  },
  {
   "cell_type": "code",
   "execution_count": 11,
   "metadata": {},
   "outputs": [
    {
     "name": "stdout",
     "output_type": "stream",
     "text": [
      "Extracting ./data/mnist\\train-images-idx3-ubyte.gz\n",
      "Extracting ./data/mnist\\train-labels-idx1-ubyte.gz\n",
      "Extracting ./data/mnist\\t10k-images-idx3-ubyte.gz\n",
      "Extracting ./data/mnist\\t10k-labels-idx1-ubyte.gz\n"
     ]
    }
   ],
   "source": [
    "mnist = input_data.read_data_sets(\"./data/mnist\",one_hot= True)"
   ]
  },
  {
   "cell_type": "code",
   "execution_count": 12,
   "metadata": {
    "collapsed": true
   },
   "outputs": [],
   "source": [
    "img_height = 28\n",
    "img_weight = 28\n",
    "img_size = 28*28\n",
    "img_channels = 1\n",
    "img_classes = 10\n",
    "\n",
    "kernel_height = 5\n",
    "kernel_weight = 5\n",
    "# input:\n",
    "# \n",
    "# kernel=[kernel_height.kernel_weight,last_n_kernel,cur_n_kernels]\n",
    "# padding = \"SAME\"\n",
    "#\n",
    "# output:\n",
    "#     [None, img_height, img_weight,cur_n_kernels]\n",
    "n_kernels_conv1 = 32\n",
    "n_kernels_conv2 = 18\n",
    "n_neurons_dense1 = 24\n",
    "n_neurons_dense2 = 10\n",
    "n_outputs = 10\n",
    "learning_rate = 1e-4\n",
    "\n",
    "n_epochs = 20\n",
    "\n",
    "batch_size = 100"
   ]
  },
  {
   "cell_type": "code",
   "execution_count": 13,
   "metadata": {
    "collapsed": true
   },
   "outputs": [],
   "source": [
    "reset_graph()\n",
    "\n",
    "x = tf.placeholder(tf.float32,[None, img_size*img_channels])\n",
    "\n",
    "y = tf.placeholder(tf.float32,[None, img_classes])"
   ]
  },
  {
   "cell_type": "code",
   "execution_count": 14,
   "metadata": {
    "collapsed": true
   },
   "outputs": [],
   "source": [
    "# w.shape = [kernel_height.kernel_weight,input_channels,Now_kernels]\n",
    "# b.shape = [Now_kernels]\n",
    "# x.shape = [None, img_height , img_weight ,input_channels]\n",
    "# x,w,b,activation\n",
    "def conv_layer(x ,n_kernels, activation = None):\n",
    "    n_inputs = int(x.get_shape()[-1])\n",
    "    stddev = 2 / np.sqrt(n_inputs)\n",
    "    w_init = tf.truncated_normal([kernel_height,kernel_weight,n_inputs,n_kernels],stddev=stddev)\n",
    "    w=tf.Variable(w_init)\n",
    "    \n",
    "    b_init=tf.zeros([n_kernels],tf.float32)\n",
    "    b = tf.Variable(b_init)\n",
    "    \n",
    "    # Convolution (sigma)\n",
    "    conv = tf.nn.conv2d(x , w, strides = [1,1,1,1],padding = 'SAME')\n",
    "    sigma = conv + b  #broadcasting\n",
    "    \n",
    "    # 非线性变换\n",
    "    if activation is not None:\n",
    "        act = activation(sigma)\n",
    "    else:\n",
    "        act = sigma\n",
    "    \n",
    "    # pooling\n",
    "    # strides 做覆盖不做重叠\n",
    "    pool = tf.nn.max_pool(act, ksize=[1,2,2,1], strides=[1,2,2,1],padding=\"SAME\")\n",
    "    return pool"
   ]
  },
  {
   "cell_type": "code",
   "execution_count": 15,
   "metadata": {
    "collapsed": true
   },
   "outputs": [],
   "source": [
    "# x.shape=[None,pic_size*pic_size]\n",
    "# w.shape=[n_inputs,n_nerurons]\n",
    "# b.shape=[n_neurons]\n",
    "def dense_layer(x,n_neurons,activation = None):\n",
    "    n_inputs = int(x.get_shape()[-1])\n",
    "    stddev = 2 / np.sqrt(n_inputs)\n",
    "    w_init = tf.truncated_normal([n_inputs,n_neurons])\n",
    "    w = tf.Variable(w_init)\n",
    "    \n",
    "    b_init = tf.zeros([n_neurons])\n",
    "    b= tf.Variable(b_init)\n",
    "    \n",
    "    sigma = tf.matmul(x,w)+b\n",
    "    \n",
    "    if activation is not None:\n",
    "        act = activation(sigma)\n",
    "    else:\n",
    "        act = sigma\n",
    "    return act"
   ]
  },
  {
   "cell_type": "code",
   "execution_count": null,
   "metadata": {
    "collapsed": true
   },
   "outputs": [],
   "source": [
    "x_conv = tf.reshape(x, [-1 , img_height,img_weight,img_channels])\n",
    "conv1 = tf.layers.conv2d(x_conv)"
   ]
  },
  {
   "cell_type": "code",
   "execution_count": 16,
   "metadata": {
    "collapsed": true
   },
   "outputs": [],
   "source": [
    "# 把输入变成卷积网络输入所要求的格式\n",
    "x_conv = tf.reshape(x, [-1 , img_height,img_weight,img_channels])\n",
    "\n",
    "conv1 = conv_layer(x_conv,n_kernels_conv1,tf.nn.relu)\n",
    "conv2 = conv_layer(conv1,n_kernels_conv2,tf.nn.relu)\n",
    "\n",
    "# 把上一层的输出数据格式转化成全连接网络输入要的格式\n",
    "x_dense = tf.reshape(conv2, [-1, 7*7*n_kernels_conv2])\n",
    "\n",
    "dense1 = dense_layer(x_dense,n_neurons_dense1,tf.nn.tanh)\n",
    "dense2 = dense_layer(dense1,n_neurons_dense2,tf.nn.tanh)\n",
    "\n",
    "prediction = dense_layer(dense2,n_outputs,tf.nn.softmax)"
   ]
  },
  {
   "cell_type": "code",
   "execution_count": 17,
   "metadata": {
    "collapsed": true
   },
   "outputs": [],
   "source": [
    "cross_entropy = tf.nn.softmax_cross_entropy_with_logits(labels = y,logits=prediction)\n",
    "loss = tf.reduce_mean(cross_entropy)\n",
    "train = tf.train.AdamOptimizer(learning_rate).minimize(loss)"
   ]
  },
  {
   "cell_type": "code",
   "execution_count": 18,
   "metadata": {
    "collapsed": true
   },
   "outputs": [],
   "source": [
    "# y.shape=[None,img_classes]\n",
    "current = tf.equal(tf.argmax(y,1),tf.argmax(prediction,1))\n",
    "accuracy = tf.reduce_mean(tf.cast(current,tf.float32))"
   ]
  },
  {
   "cell_type": "code",
   "execution_count": 30,
   "metadata": {
    "collapsed": true
   },
   "outputs": [],
   "source": [
    "# 存储器\n",
    "loss_summary = tf.summary.scalar('loss',loss)\n",
    "acc_summary = tf.summary.scalar('acc',accuracy)\n",
    "merged = tf.summary.merge_all()\n",
    "\n",
    "# 写出到磁盘\n",
    "log_dir = './data/mnist_logs/'\n",
    "file_writer = tf.summary.FileWriter(log_dir,tf.get_default_graph())\n",
    "\n",
    "model_path = './data/mnist_models/'\n",
    "saver = tf.train.Saver()"
   ]
  },
  {
   "cell_type": "code",
   "execution_count": 31,
   "metadata": {},
   "outputs": [
    {
     "name": "stdout",
     "output_type": "stream",
     "text": [
      "epoch:  0  train_acc:  0.11  test_acc:  0.07\n",
      "epoch:  1  train_acc:  0.09  test_acc:  0.12\n",
      "epoch:  2  train_acc:  0.15  test_acc:  0.15\n",
      "epoch:  3  train_acc:  0.09  test_acc:  0.1\n",
      "epoch:  4  train_acc:  0.1  test_acc:  0.11\n",
      "epoch:  5  train_acc:  0.1  test_acc:  0.11\n",
      "epoch:  6  train_acc:  0.12  test_acc:  0.09\n",
      "epoch:  7  train_acc:  0.04  test_acc:  0.04\n",
      "epoch:  8  train_acc:  0.09  test_acc:  0.05\n",
      "epoch:  9  train_acc:  0.11  test_acc:  0.07\n",
      "epoch:  10  train_acc:  0.06  test_acc:  0.09\n",
      "epoch:  11  train_acc:  0.11  test_acc:  0.08\n",
      "epoch:  12  train_acc:  0.06  test_acc:  0.1\n",
      "epoch:  13  train_acc:  0.1  test_acc:  0.08\n",
      "epoch:  14  train_acc:  0.07  test_acc:  0.14\n",
      "epoch:  15  train_acc:  0.07  test_acc:  0.07\n",
      "epoch:  16  train_acc:  0.09  test_acc:  0.11\n",
      "epoch:  17  train_acc:  0.13  test_acc:  0.12\n",
      "epoch:  18  train_acc:  0.03  test_acc:  0.1\n",
      "epoch:  19  train_acc:  0.09  test_acc:  0.1\n"
     ]
    }
   ],
   "source": [
    "\n",
    "init = tf.global_variables_initializer()\n",
    "\n",
    "\n",
    "with tf.Session() as sess:\n",
    "    sess.run(init)\n",
    "#     saver.restore(sess,model_path)\n",
    "    for ep in range (n_epochs):\n",
    "        x_batch,y_batch = mnist.train.next_batch(batch_size)\n",
    "        merged_dir,train_val ,_ = sess.run([merged,accuracy,train],feed_dict={x:x_batch,y:y_batch})\n",
    "        \n",
    "        x_batch,y_batch = mnist.train.next_batch(batch_size)\n",
    "        test_acc = sess.run(accuracy,feed_dict={x:x_batch,y:y_batch})\n",
    "        \n",
    "        file_writer.add_summary(merged_dir, ep)\n",
    "        print(\"epoch: \",str(ep),\" train_acc: \",str(train_val),\" test_acc: \",str(test_acc))\n",
    "    file_writer.close()\n",
    "    saver.save(sess,model_path)"
   ]
  },
  {
   "cell_type": "code",
   "execution_count": 29,
   "metadata": {},
   "outputs": [
    {
     "name": "stdout",
     "output_type": "stream",
     "text": [
      "10000\n"
     ]
    }
   ],
   "source": [
    "print (mnist.test.num_examples)"
   ]
  },
  {
   "cell_type": "code",
   "execution_count": null,
   "metadata": {
    "collapsed": true
   },
   "outputs": [],
   "source": []
  }
 ],
 "metadata": {
  "kernelspec": {
   "display_name": "Python 3",
   "language": "python",
   "name": "python3"
  },
  "language_info": {
   "codemirror_mode": {
    "name": "ipython",
    "version": 3
   },
   "file_extension": ".py",
   "mimetype": "text/x-python",
   "name": "python",
   "nbconvert_exporter": "python",
   "pygments_lexer": "ipython3",
   "version": "3.6.3"
  }
 },
 "nbformat": 4,
 "nbformat_minor": 2
}
