{
 "cells": [
  {
   "cell_type": "code",
   "execution_count": 1,
   "metadata": {
    "collapsed": true
   },
   "outputs": [],
   "source": [
    "import tensorflow as tf\n",
    "import numpy as np\n",
    "import matplotlib.pyplot as plt"
   ]
  },
  {
   "cell_type": "code",
   "execution_count": 2,
   "metadata": {
    "collapsed": true
   },
   "outputs": [],
   "source": [
    "def reset_graph(seed=318):\n",
    "    tf.reset_default_graph()\n",
    "    tf.set_random_seed(seed)\n",
    "    np.random.seed(seed)"
   ]
  },
  {
   "cell_type": "code",
   "execution_count": 3,
   "metadata": {
    "collapsed": true
   },
   "outputs": [],
   "source": [
    "from tensorflow.examples.tutorials.mnist import input_data"
   ]
  },
  {
   "cell_type": "code",
   "execution_count": null,
   "metadata": {},
   "outputs": [],
   "source": [
    "mnist = input_data.read_data_sets(\"MNIST_data\",one_hot=True)"
   ]
  },
  {
   "cell_type": "code",
   "execution_count": null,
   "metadata": {
    "collapsed": true
   },
   "outputs": [],
   "source": [
    "pic_width = 28\n",
    "pic_height = 28\n",
    "pic_size = pic_width*pic_height\n",
    "\n",
    "filter_height = 5\n",
    "filter_width = 5\n",
    "batch_size = 10\n",
    "n_epochs = 100\n",
    "pic_class = 10\n",
    "\n",
    "n_kernels_conv1 = 32\n",
    "n_kernels_conv2 = 64\n",
    "\n",
    "n_inputs_full1 = 7*7*n_kernels_conv2\n",
    "\n",
    "n_neurons_dense1 = 24\n",
    "n_neurons_dense2 = 10\n",
    "\n",
    "n_channels = 1"
   ]
  },
  {
   "cell_type": "code",
   "execution_count": null,
   "metadata": {
    "collapsed": true
   },
   "outputs": [],
   "source": [
    "reset_graph()"
   ]
  },
  {
   "cell_type": "code",
   "execution_count": null,
   "metadata": {
    "collapsed": true
   },
   "outputs": [],
   "source": [
    "x = tf.placeholder(tf.float32,[None,pic_size])\n",
    "y = tf.placeholder(tf.float32,[None,pic_class])\n",
    "keep_prob = tf.placeholder(tf.float32)"
   ]
  },
  {
   "cell_type": "code",
   "execution_count": null,
   "metadata": {
    "collapsed": true
   },
   "outputs": [],
   "source": [
    "def conv_layer(x,n_kennels,activation=None):\n",
    "    n_inputs = int(x.get_shape()[-1])\n",
    "    stddev = 2/np.sqrt(n_inputs)\n",
    "    W_init = tf.truncated_normal([filter_height,filter_width,n_inputs,n_kennels],stddev=stddev)\n",
    "    b_init = tf.zeros([n_kennels],tf.float32)\n",
    "    W = tf.Variable(W_init)\n",
    "    b = tf.Variable(b_init)\n",
    "    \n",
    "#     convolution\n",
    "    conv = tf.nn.conv2d(x,W,strides=[1,1,1,1],padding='SAME')\n",
    "    sigma = conv + b\n",
    "    \n",
    "    if activation is not None:\n",
    "        act = activation(sigma)\n",
    "    else:\n",
    "        act = sigma\n",
    "    \n",
    "    pool = tf.nn.max_pool(act,ksize=[1,2,2,1],strides=[1,1,1,1],padding='SAME')\n",
    "    \n",
    "    return pool"
   ]
  },
  {
   "cell_type": "code",
   "execution_count": null,
   "metadata": {
    "collapsed": true
   },
   "outputs": [],
   "source": [
    "def dense_layer(x,n_neurons,activation=None):\n",
    "    n_inputs = int(x.get_shape()[-1])\n",
    "    stddev = 2/np.sqrt(n_inputs)\n",
    "    W_init = tf.truncated_normal([n_inputs,n_neurons],stddev=stddev)\n",
    "    b_init = tf.zeros([n_neurons])\n",
    "    W = tf.Variable(W_init)\n",
    "    b = tf.Variable(b_init)\n",
    "    \n",
    "    dense = tf.matmul(x,W) + b\n",
    "    \n",
    "    if activation is not None:\n",
    "        act = activation(dense)\n",
    "    else:\n",
    "        act = dense\n",
    "    \n",
    "    return act"
   ]
  },
  {
   "cell_type": "code",
   "execution_count": null,
   "metadata": {
    "collapsed": true
   },
   "outputs": [],
   "source": [
    "x_conv = tf.reshape(x,[-1,pic_height,pic_width,n_channels])\n",
    "conv1 = conv_layer(x_conv,n_kernels_conv1,tf.nn.relu)\n",
    "conv2 = conv_layer(conv1,n_kernels_conv2,tf.nn.relu)\n",
    "\n",
    "x_dense = tf.reshape(conv2,[-1,n_inputs_full1])\n",
    "\n",
    "dense1 = dense_layer(x_dense,n_neurons_dense1,tf.nn.tanh)\n",
    "prediction = dense_layer(dense1,n_neurons_dense2,tf.nn.softmax)"
   ]
  },
  {
   "cell_type": "code",
   "execution_count": null,
   "metadata": {
    "collapsed": true
   },
   "outputs": [],
   "source": [
    "loss = tf.reduce_mean(tf.nn.softmax_cross_entropy_with_logits(labels=y,logits=prediction))\n",
    "train = tf.train.AdamOptimizer(1e-4).minimize(loss)"
   ]
  },
  {
   "cell_type": "code",
   "execution_count": null,
   "metadata": {
    "collapsed": true
   },
   "outputs": [],
   "source": [
    "correct = tf.equal(tf.argmax(y,1),tf.argmax(prediction,1))\n",
    "accuracy = tf.reduce_mean(tf.cast(correct,tf.float32))"
   ]
  },
  {
   "cell_type": "code",
   "execution_count": null,
   "metadata": {
    "collapsed": true
   },
   "outputs": [],
   "source": [
    "loss_summary = tf.summary.scalar('loss',loss)\n",
    "acc_summary = tf.summary.scalar('acc',accuracy)\n",
    "\n",
    "merged = tf.summary.merge_all()\n",
    "\n",
    "log_dir = 'logdir'\n",
    "file_writer = tf.summary.FileWriter(log_dir,tf.get_default_graph())"
   ]
  },
  {
   "cell_type": "code",
   "execution_count": null,
   "metadata": {},
   "outputs": [],
   "source": [
    "with tf.Session() as sess:\n",
    "    init = tf.global_variables_initializer()\n",
    "    sess.run(init)\n",
    "    for epoch in range(n_epochs):\n",
    "        train_acc = 0.0\n",
    "        test_acc = 0.0\n",
    "        x_batch,y_batch = mnist.train.next_batch(batch_size)\n",
    "        merged_str,acc,_ = sess.run([merged,accuracy,train],feed_dict={x:x_batch,y:y_batch,keep_prob:0.7})\n",
    "        train_acc += acc\n",
    "        x_batch,y_batch = mnist.test.next_batch(batch_size)\n",
    "        acc = sess.run(accuracy,feed_dict={x:x_batch,y:y_batch,keep_prob:1.0})\n",
    "        test_acc += acc\n",
    "        file_writer.add_summary(merged_str,epoch)\n",
    "        print(\"Epoch:\"+ str(epoch) + \"train_acc:\" + str(train_acc) +  \"train_acc:\" + str(test_acc))\n",
    "    file_writer.close()"
   ]
  },
  {
   "cell_type": "code",
   "execution_count": null,
   "metadata": {
    "collapsed": true
   },
   "outputs": [],
   "source": []
  }
 ],
 "metadata": {
  "kernelspec": {
   "display_name": "Python 3",
   "language": "python",
   "name": "python3"
  },
  "language_info": {
   "codemirror_mode": {
    "name": "ipython",
    "version": 3
   },
   "file_extension": ".py",
   "mimetype": "text/x-python",
   "name": "python",
   "nbconvert_exporter": "python",
   "pygments_lexer": "ipython3",
   "version": "3.6.3"
  }
 },
 "nbformat": 4,
 "nbformat_minor": 2
}
