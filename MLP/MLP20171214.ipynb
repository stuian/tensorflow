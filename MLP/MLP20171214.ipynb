{
 "cells": [
  {
   "cell_type": "code",
   "execution_count": 1,
   "metadata": {
    "collapsed": true
   },
   "outputs": [],
   "source": [
    "import tensorflow as tf\n",
    "import numpy as np\n",
    "\n",
    "#作用：\n",
    "# 1)make this notebook's output stble across runs;\n",
    "# 2)清空defalt_graph\n",
    "def reset_graph(seed = 318):\n",
    "    tf.reset_default_graph()\n",
    "    tf.set_random_seed(seed)\n",
    "    np.random.seed(seed)"
   ]
  },
  {
   "cell_type": "code",
   "execution_count": 2,
   "metadata": {
    "collapsed": true
   },
   "outputs": [],
   "source": [
    "from tensorflow.examples.tutorials.mnist import input_data"
   ]
  },
  {
   "cell_type": "code",
   "execution_count": 17,
   "metadata": {},
   "outputs": [
    {
     "name": "stdout",
     "output_type": "stream",
     "text": [
      "Extracting /data/stu12/mnist_2/train-images-idx3-ubyte.gz\n",
      "Extracting /data/stu12/mnist_2/train-labels-idx1-ubyte.gz\n",
      "Extracting /data/stu12/mnist_2/t10k-images-idx3-ubyte.gz\n",
      "Extracting /data/stu12/mnist_2/t10k-labels-idx1-ubyte.gz\n"
     ]
    }
   ],
   "source": [
    "data_path = \"/data/stu12/mnist/\"\n",
    "data_path2 = \"/data/stu12/mnist_2/\"\n",
    "# mnist = input_data.read_data_sets(data_path, one_hot=True)  # one_hot coding\n",
    "mnist = input_data.read_data_sets(data_path2) # raw_coding"
   ]
  },
  {
   "cell_type": "code",
   "execution_count": 46,
   "metadata": {
    "collapsed": true
   },
   "outputs": [],
   "source": [
    "#图片常量\n",
    "pic_height = 28\n",
    "pic_width = 28\n",
    "pic_size = pic_height*pic_width\n",
    "pic_classes = 10\n",
    "pic_channels = 1\n",
    "\n",
    "#网络拓扑的常量\n",
    "n_inputs = pic_size\n",
    "n_hidden1 = 200\n",
    "n_hidden2 = 120\n",
    "n_outputs = pic_classes\n",
    "\n",
    "#迭代次数\n",
    "n_epochs = 21\n",
    "\n",
    "# mini-batch\n",
    "batch_size = 50\n",
    "n_train_batches = mnist.train.num_examples // batch_size\n",
    "n_test_batches = mnist.test.num_examples // batch_size\n",
    "\n",
    "# learning_rate\n",
    "learning_rate = 1e-4"
   ]
  },
  {
   "cell_type": "markdown",
   "metadata": {},
   "source": [
    "# 构建模型"
   ]
  },
  {
   "cell_type": "code",
   "execution_count": 5,
   "metadata": {
    "collapsed": true
   },
   "outputs": [],
   "source": [
    "reset_graph()"
   ]
  },
  {
   "cell_type": "markdown",
   "metadata": {},
   "source": [
    "### 定义网络的全连接层创建函数"
   ]
  },
  {
   "cell_type": "code",
   "execution_count": 6,
   "metadata": {
    "collapsed": true
   },
   "outputs": [],
   "source": [
    "# def neurons_layer(X, n_neurons, activation = None):\n",
    "#     # 获取输入单元个数\n",
    "#     n_inputs = int(X.get_shape()[-1])  # (batch_size, pic_size)\n",
    "    \n",
    "#     # 定义W\n",
    "#     stddev = 2/np.sqrt(n_inputs)\n",
    "#     init = tf.truncated_normal((n_inputs, n_neurons), stddev)\n",
    "#     W = tf.Variable(init)\n",
    "    \n",
    "#     # 定义b\n",
    "#     b = tf.Variable(tf.zeros((n_neurons), tf.float32))\n",
    "    \n",
    "#     # 加法\n",
    "#     sigma = tf.matmul(X, W) + b\n",
    "    \n",
    "#     # 非线性变换\n",
    "#     if activation is not None:\n",
    "#         return activation(sigma)\n",
    "    \n",
    "#     # 不做非线性变换\n",
    "#     return sigma    "
   ]
  },
  {
   "cell_type": "markdown",
   "metadata": {},
   "source": [
    "### 构建神经网络"
   ]
  },
  {
   "cell_type": "code",
   "execution_count": 19,
   "metadata": {
    "collapsed": true
   },
   "outputs": [],
   "source": [
    "#定义placeholder (batch_size 《==》 None)\n",
    "X = tf.placeholder(tf.float32, (None, pic_size))\n",
    "# Y = tf.placeholder(tf.float32, (None, pic_classes))\n",
    "Y = tf.placeholder(tf.int32, (None))"
   ]
  },
  {
   "cell_type": "code",
   "execution_count": 50,
   "metadata": {
    "collapsed": true
   },
   "outputs": [],
   "source": [
    "# hidden1 = neurons_layer(X, n_hidden1, tf.nn.relu) #  (batch_size, n_hidden1)\n",
    "# hidden2 = neurons_layer(hidden1, n_hidden2, tf.nn.relu) # (batch_size, n_hidden2)\n",
    "# prediction = neurons_layer(hidden2, n_outputs)   # (batch_size, n_outputs)\n",
    "hidden1 = tf.layers.dense(X, n_hidden1, tf.nn.relu)\n",
    "hidden1_dropout = tf.nn.dropout(hidden1, 0.7)\n",
    "hidden2 = tf.layers.dense(hidden1_dropout, n_hidden2, tf.nn.relu)\n",
    "hidden2_dropout = tf.nn.dropout(hidden2, 0.7)\n",
    "prediction = tf.layers.dense(hidden2_dropout, n_outputs)"
   ]
  },
  {
   "cell_type": "markdown",
   "metadata": {},
   "source": [
    "### 交叉熵损失(训练时用)"
   ]
  },
  {
   "cell_type": "code",
   "execution_count": 40,
   "metadata": {
    "collapsed": true
   },
   "outputs": [],
   "source": [
    "# xentropy = tf.nn.softmax_cross_entropy_with_logits(labels = Y, logits = prediction)\n",
    "xentropy = tf.nn.sparse_softmax_cross_entropy_with_logits(labels = Y, \n",
    "                                                         logits = prediction)\n",
    "loss = tf.reduce_mean(xentropy)"
   ]
  },
  {
   "cell_type": "markdown",
   "metadata": {},
   "source": [
    "### 定义学习算法"
   ]
  },
  {
   "cell_type": "code",
   "execution_count": 41,
   "metadata": {
    "collapsed": true
   },
   "outputs": [],
   "source": [
    "optimizer = tf.train.AdamOptimizer(learning_rate)\n",
    "train = optimizer.minimize(loss)"
   ]
  },
  {
   "cell_type": "markdown",
   "metadata": {},
   "source": [
    "### 准确率（测试、验证用，也可以在训练时）"
   ]
  },
  {
   "cell_type": "code",
   "execution_count": 42,
   "metadata": {
    "collapsed": true
   },
   "outputs": [],
   "source": [
    "# correct = tf.equal(tf.argmax(Y, 1), tf.argmax(prediction, 1)) # y.shape =(batch_size, pic_classes)\n",
    "correct = tf.nn.in_top_k(prediction, Y, 1)\n",
    "accuracy = tf.reduce_mean(tf.cast(correct, tf.float32))"
   ]
  },
  {
   "cell_type": "markdown",
   "metadata": {},
   "source": [
    "# 创建会话，进行训练、测试"
   ]
  },
  {
   "cell_type": "code",
   "execution_count": 43,
   "metadata": {
    "collapsed": true
   },
   "outputs": [],
   "source": [
    "#保存模型\n",
    "saver = tf.train.Saver()\n",
    "model_path = \"/data/stu12/my_model/mlp.ckpt\"\n",
    "\n",
    "#模型"
   ]
  },
  {
   "cell_type": "code",
   "execution_count": 44,
   "metadata": {
    "collapsed": true
   },
   "outputs": [],
   "source": [
    "init = tf.global_variables_initializer()"
   ]
  },
  {
   "cell_type": "code",
   "execution_count": 52,
   "metadata": {
    "scrolled": false
   },
   "outputs": [
    {
     "name": "stdout",
     "output_type": "stream",
     "text": [
      "Epoch 0; Train_acc:0.856781811352; Test_acc:0.923999999762;\n",
      "Epoch 1; Train_acc:0.932272726514; Test_acc:0.940700000823;\n",
      "Epoch 2; Train_acc:0.946254546696; Test_acc:0.951400002241;\n",
      "Epoch 3; Train_acc:0.956272728389; Test_acc:0.957300001383;\n",
      "Epoch 4; Train_acc:0.963254547932; Test_acc:0.961000002027;\n",
      "Epoch 5; Train_acc:0.968309092088; Test_acc:0.965000000894;\n",
      "Epoch 6; Train_acc:0.972781817696; Test_acc:0.967300000489;\n",
      "Epoch 7; Train_acc:0.975745454105; Test_acc:0.970100000799;\n",
      "Epoch 8; Train_acc:0.978818182187; Test_acc:0.971699997485;\n",
      "Epoch 9; Train_acc:0.980327273282; Test_acc:0.973299998641;\n",
      "Epoch 10; Train_acc:0.98316363546; Test_acc:0.974100002348;\n",
      "Epoch 11; Train_acc:0.984418181506; Test_acc:0.976100000739;\n",
      "Epoch 12; Train_acc:0.98601818101; Test_acc:0.975699999928;\n",
      "Epoch 13; Train_acc:0.987418181463; Test_acc:0.977100001574;\n",
      "Epoch 14; Train_acc:0.988999999924; Test_acc:0.975999997854;\n",
      "Epoch 15; Train_acc:0.990199999159; Test_acc:0.977099999189;\n",
      "Epoch 16; Train_acc:0.991181817488; Test_acc:0.977999999523;\n",
      "Epoch 17; Train_acc:0.99227272711; Test_acc:0.978599995971;\n",
      "Epoch 18; Train_acc:0.992927273024; Test_acc:0.976599998772;\n",
      "Epoch 19; Train_acc:0.993763636242; Test_acc:0.978199998736;\n",
      "Epoch 20; Train_acc:0.995000000054; Test_acc:0.978199997246;\n"
     ]
    }
   ],
   "source": [
    "with tf.Session() as sess:\n",
    "    sess.run(init)\n",
    "#     saver.restore(sess, model_path)\n",
    "    \n",
    "    # 进行多趟的训练和测试\n",
    "    for epoch in range(n_epochs):\n",
    "        \n",
    "        # mini-batch\n",
    "        train_acc = .0\n",
    "        test_acc = .0\n",
    "        for batch in range(n_train_batches):\n",
    "            x_batch, y_batch = mnist.train.next_batch(batch_size)\n",
    "            #fetch\n",
    "            train_val, acc_val = sess.run([train, accuracy], \n",
    "                                 feed_dict = {X:x_batch, Y:y_batch})\n",
    "            train_acc += acc_val\n",
    "        train_acc /= n_train_batches\n",
    "        \n",
    "        for batch in range(n_test_batches):\n",
    "            x_batch, y_batch = mnist.test.next_batch(batch_size)            \n",
    "            acc_val = sess.run(accuracy, feed_dict = {X:x_batch, Y:y_batch})\n",
    "            test_acc += acc_val\n",
    "        test_acc /= n_test_batches\n",
    "        \n",
    "        print(\"Epoch \" + str(epoch) +\n",
    "             \"; Train_acc:\" + str(train_acc) +\n",
    "             \"; Test_acc:\" + str(test_acc) + \";\")\n",
    "\n",
    "    saver.save(sess, model_path)"
   ]
  }
 ],
 "metadata": {
  "kernelspec": {
   "display_name": "Python 3",
   "language": "python",
   "name": "python3"
  },
  "language_info": {
   "codemirror_mode": {
    "name": "ipython",
    "version": 3
   },
   "file_extension": ".py",
   "mimetype": "text/x-python",
   "name": "python",
   "nbconvert_exporter": "python",
   "pygments_lexer": "ipython3",
   "version": "3.6.4"
  }
 },
 "nbformat": 4,
 "nbformat_minor": 2
}
