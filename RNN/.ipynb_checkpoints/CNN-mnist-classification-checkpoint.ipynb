{
 "cells": [
  {
   "cell_type": "code",
   "execution_count": 1,
   "metadata": {},
   "outputs": [
    {
     "name": "stderr",
     "output_type": "stream",
     "text": [
      "C:\\ProgramData\\Anaconda3\\lib\\site-packages\\h5py\\__init__.py:36: FutureWarning: Conversion of the second argument of issubdtype from `float` to `np.floating` is deprecated. In future, it will be treated as `np.float64 == np.dtype(float).type`.\n",
      "  from ._conv import register_converters as _register_converters\n"
     ]
    }
   ],
   "source": [
    "import tensorflow as tf\n",
    "import numpy as np\n",
    "import matplotlib.pyplot as plt"
   ]
  },
  {
   "cell_type": "code",
   "execution_count": 2,
   "metadata": {},
   "outputs": [],
   "source": [
    "def reset_graph(seed = 318):\n",
    "    tf.reset_default_graph( )\n",
    "    tf.set_random_seed(seed)\n",
    "    np.random.seed(seed)"
   ]
  },
  {
   "cell_type": "code",
   "execution_count": 4,
   "metadata": {},
   "outputs": [],
   "source": [
    "import input_data"
   ]
  },
  {
   "cell_type": "code",
   "execution_count": 5,
   "metadata": {},
   "outputs": [
    {
     "name": "stdout",
     "output_type": "stream",
     "text": [
      "Extracting ../mnist/MNIST_data\\train-images-idx3-ubyte.gz\n",
      "Extracting ../mnist/MNIST_data\\train-labels-idx1-ubyte.gz\n",
      "Extracting ../mnist/MNIST_data\\t10k-images-idx3-ubyte.gz\n",
      "Extracting ../mnist/MNIST_data\\t10k-labels-idx1-ubyte.gz\n"
     ]
    }
   ],
   "source": [
    "# mnist = input_data.read_data_sets(\"/data/stu12/mnist/\", one_hot = True)\n",
    "mnist = input_data.read_data_sets(\"../mnist/MNIST_data\")"
   ]
  },
  {
   "cell_type": "code",
   "execution_count": 7,
   "metadata": {},
   "outputs": [
    {
     "data": {
      "text/plain": [
       "(55000, 784)"
      ]
     },
     "execution_count": 7,
     "metadata": {},
     "output_type": "execute_result"
    }
   ],
   "source": [
    "mnist.train.images.shape"
   ]
  },
  {
   "cell_type": "code",
   "execution_count": 6,
   "metadata": {
    "scrolled": true
   },
   "outputs": [
    {
     "data": {
      "text/plain": [
       "(55000,)"
      ]
     },
     "execution_count": 6,
     "metadata": {},
     "output_type": "execute_result"
    }
   ],
   "source": [
    "mnist.train.labels.shape\n",
    "# shape(x) = [None, 784]"
   ]
  },
  {
   "cell_type": "markdown",
   "metadata": {},
   "source": [
    "### constant"
   ]
  },
  {
   "cell_type": "code",
   "execution_count": 8,
   "metadata": {},
   "outputs": [],
   "source": [
    "# image\n",
    "img_height = 28\n",
    "img_width = 28\n",
    "img_size = img_height*img_width\n",
    "img_channels = 1 # 黑白图\n",
    "img_classes = 10\n",
    "\n",
    "kernel_height = 5\n",
    "kernel_width = 5\n",
    "\n",
    "n_inputs = img_width\n",
    "n_steps = img_height\n",
    "\n",
    "learning_rate = 1e-4\n",
    "\n",
    "n_epochs = 10000\n",
    "\n",
    "# INPUT: (n_kernels == n_channels)\n",
    "# shape(x) == [None, img_height, img_width, last_n_kernels]\n",
    "# shape(kernel) == [kernel_height, kernel_width, last_n_kernels, cur_n_kernels]\n",
    "# padding == 'SAME'\n",
    "# \n",
    "# OUTPUT:\n",
    "# shape(conv) == [None, img_height, img_width, cur_n_kernels]\n",
    "\n",
    "n_kernels_conv1 = 24\n",
    "n_kernels_conv2 = 18\n",
    "\n",
    "n_neurons_dense1 = 24\n",
    "n_neurons_dense2 = 18\n",
    "n_outputs = 10\n",
    "\n",
    "n_neurons = 50\n",
    "\n",
    "batch_size = 10"
   ]
  },
  {
   "cell_type": "markdown",
   "metadata": {},
   "source": [
    "### placeholder variables"
   ]
  },
  {
   "cell_type": "code",
   "execution_count": 9,
   "metadata": {},
   "outputs": [],
   "source": [
    "reset_graph()\n",
    "\n",
    "x = tf.placeholder(tf.float32, [None, n_steps, n_inputs])\n",
    "\n",
    "y = tf.placeholder(tf.float32, [None, img_classes])"
   ]
  },
  {
   "cell_type": "markdown",
   "metadata": {},
   "source": [
    "### model"
   ]
  },
  {
   "cell_type": "code",
   "execution_count": 10,
   "metadata": {},
   "outputs": [],
   "source": [
    "def conv_layer(x, n_kernels, activation = None):\n",
    "    \n",
    "    # w / filter / kernel\n",
    "    # shape(x) = [None, img_height, img_width, input_channels]\n",
    "    # shape(w) = [kernel_height, kernel_width, input_channels, n_kernels]\n",
    "    # shape(b) = [n_kernels]\n",
    "    \n",
    "    n_inputs = int(x.get_shape()[-1])\n",
    "    stddev = 2 / np.sqrt(n_inputs)\n",
    "    W_init = tf.truncated_normal([kernel_height, kernel_width, n_inputs, n_kernels], stddev = stddev)\n",
    "    W = tf.Variable(W_init)\n",
    "    \n",
    "    b_init = tf.zeros([n_kernels], tf.float32)\n",
    "    b = tf.Variable(b_init)\n",
    "    \n",
    "    # Convolution (sigma)\n",
    "    conv = tf.nn.conv2d(x, W, strides = [1,1,1,1], padding = 'SAME')\n",
    "    sigma = conv + b   # broadcasting\n",
    "\n",
    "    # non-linear transform\n",
    "    if activation is not None:\n",
    "        act = activation(sigma)\n",
    "    else:\n",
    "        act = sigma\n",
    "        \n",
    "    # pooling\n",
    "    # shape(x) = [None, img_height, img_width, input_channels]\n",
    "    pool = tf.nn.max_pool(act, ksize = [1,2,2,1], strides=[1,2,2,1], padding = 'SAME')\n",
    "        \n",
    "    return pool    "
   ]
  },
  {
   "cell_type": "code",
   "execution_count": 11,
   "metadata": {},
   "outputs": [],
   "source": [
    "def dense_layer(x, n_neurons, activation = None):\n",
    "    \n",
    "    #shape(x) = [None, pic_size * pic_channels]\n",
    "    #shape(w) = [n_inputs, n_neurons]\n",
    "    #shape(b) = [n_neurons]\n",
    "    with tf.name_scope('dense'):\n",
    "        n_inputs = int(x.get_shape()[-1])\n",
    "        stddev = 2 / np.sqrt(n_inputs)\n",
    "        W_init = tf.truncated_normal([n_inputs, n_neurons], stddev = stddev)\n",
    "        W = tf.Variable(W_init, name='W_dense')\n",
    "\n",
    "        b_init = tf.zeros([n_neurons])\n",
    "        b = tf.Variable(b_init, name = 'b_dense')\n",
    "\n",
    "        # sigma\n",
    "        sigma = tf.matmul(x, W) + b\n",
    "\n",
    "    # non-linear transformation\n",
    "    if activation is not None:\n",
    "        return activation(sigma)\n",
    "    else:\n",
    "        return sigma"
   ]
  },
  {
   "cell_type": "code",
   "execution_count": 12,
   "metadata": {},
   "outputs": [],
   "source": [
    "# 把输入变成卷机网络输入所要求的格式\n",
    "x_conv = tf.reshape(x, [-1, img_height, img_width, img_channels])\n",
    "\n",
    "# 第一层卷机网络\n",
    "conv1 = conv_layer(x_conv, n_kernels_conv1, tf.nn.relu)\n",
    "\n",
    "# 第二层卷积网络\n",
    "conv2 = conv_layer(conv1, n_kernels_conv2, tf.nn.relu)\n",
    "\n",
    "# shape(conv2) == [None, 7, 7, n_kernels_conv2]\n",
    "\n",
    "# 全连接层第一层\n",
    "# shape(x_dense) == [None, 7*7*n_kernels_conv2]\n",
    "\n",
    "# 把上一层的输出数据格式转换成全连接网络输入所需要的格式\n",
    "x_dense = tf.reshape(conv2, [-1, 7*7*n_kernels_conv2])\n",
    "dense1 = dense_layer(x_dense, n_neurons_dense1, tf.nn.tanh)\n",
    "dense2 = dense_layer(dense1, n_neurons_dense2, tf.nn.tanh)\n",
    "prediction = dense_layer(dense2, n_outputs, tf.nn.softmax)"
   ]
  },
  {
   "cell_type": "markdown",
   "metadata": {},
   "source": [
    "#### 第二种方法：tensorflow自带的公式将每一层包装"
   ]
  },
  {
   "cell_type": "code",
   "execution_count": null,
   "metadata": {
    "scrolled": true
   },
   "outputs": [],
   "source": [
    "# #输入数据格式转换成圈基层要求的格式\n",
    "# x_conv = tf.reshape(x, [-1, img_height, img_width, img_channels])\n",
    "\n",
    "# #第一卷积曾\n",
    "# conv1 = tf.layers.conv2d(x_conv, n_kernels_conv1, \n",
    "#                          kernel_size = (kernel_height, kernel_width), \n",
    "#                          strides = (1,1), \n",
    "#                          padding = 'same', activation = tf.nn.relu)\n",
    "# pool1 = tf.layers.max_pooling2d(conv1, (2, 2), strides = (2,2), padding = 'same')\n",
    "\n",
    "# # 第二卷积层\n",
    "# conv2 = tf.layers.conv2d(pool1, n_kernels_conv2,\n",
    "#                         kernel_size = (kernel_height, kernel_width),\n",
    "#                         strides = (1,1),\n",
    "#                         padding = 'same', activation = tf.nn.relu)\n",
    "# pool2 = tf.layers.max_pooling2d(conv2, (2, 2), strides = (2,2), padding = 'same')"
   ]
  },
  {
   "cell_type": "code",
   "execution_count": null,
   "metadata": {
    "scrolled": true
   },
   "outputs": [],
   "source": [
    "# x_conv = tf.reshape(x, [-1, img_height, img_width, img_channels])\n",
    "\n",
    "# conv1 = tf.layers.conv2d(x_conv, n_kernels_conv1, (5,5), padding='same', activation = tf.nn.relu)\n",
    "# print(conv1.shape)\n",
    "# pool1 = tf.layers.max_pooling2d(conv1, (2,2), (2,2), padding='same')\n",
    "# print(pool1.shape)\n",
    "# conv2 = tf.layers.conv2d(pool1, n_kernels_conv2, (5,5), padding='same', activation=tf.nn.relu)\n",
    "# print(conv2.shape)\n",
    "# pool1 = tf.layers.max_pooling2d(conv2, (2,2), (2,2), padding='same')\n",
    "# print(pool1.shape)\n",
    "\n",
    "# x_dense = tf.reshape(pool1, [-1, 7*7*n_kernels_conv2])\n",
    "# print(x_dense.shape)\n",
    "\n",
    "# dense1 = tf.layers.dense(x_dense, n_neurons_dense1, activation = tf.nn.tanh)\n",
    "# print(dense1.shape)\n",
    "# dense2 = tf.layers.dense(dense1, n_neurons_dense2, activation= tf.nn.tanh)\n",
    "# print(dense2.shape)\n",
    "# prediction = tf.layers.dense(dense2, n_outputs)\n",
    "# print(prediction.shape)"
   ]
  },
  {
   "cell_type": "code",
   "execution_count": 14,
   "metadata": {},
   "outputs": [],
   "source": [
    "# # 把卷积层输出数据的格式转换成全连接层需要的格式\n",
    "# x_dense = tf.reshape(pool2, [-1, 7*7*n_kernels_conv2])\n",
    "\n",
    "# # 第一全连接层\n",
    "# dense1 = tf.layers.dense(x_dense, n_neurons_dense1, activation=tf.nn.tanh)\n",
    "\n",
    "# # 第二全连接层\n",
    "# dense2 = tf.layers.dense(dense1, n_neurons_dense2, activation=tf.nn.tanh)\n",
    "\n",
    "# # 输出 (原来用softmax)\n",
    "# prediction = tf.layers.dense(dense2, img_classes)"
   ]
  },
  {
   "cell_type": "markdown",
   "metadata": {},
   "source": [
    "### loss function(train)"
   ]
  },
  {
   "cell_type": "code",
   "execution_count": 16,
   "metadata": {},
   "outputs": [
    {
     "name": "stdout",
     "output_type": "stream",
     "text": [
      "WARNING:tensorflow:From <ipython-input-16-d8fa12493d3d>:2: softmax_cross_entropy_with_logits (from tensorflow.python.ops.nn_ops) is deprecated and will be removed in a future version.\n",
      "Instructions for updating:\n",
      "\n",
      "Future major versions of TensorFlow will allow gradients to flow\n",
      "into the labels input on backprop by default.\n",
      "\n",
      "See `tf.nn.softmax_cross_entropy_with_logits_v2`.\n",
      "\n"
     ]
    }
   ],
   "source": [
    "cross_entropy = tf.nn.sparse_softmax_cross_entropy_with_logits(\n",
    "    labels = y, logits = prediction)\n",
    "\n",
    "loss = tf.reduce_mean(cross_entropy)"
   ]
  },
  {
   "cell_type": "markdown",
   "metadata": {},
   "source": [
    "### optimizer"
   ]
  },
  {
   "cell_type": "code",
   "execution_count": null,
   "metadata": {},
   "outputs": [],
   "source": [
    "train = tf.train.AdamOptimizer(learning_rate).minimize(loss)"
   ]
  },
  {
   "cell_type": "markdown",
   "metadata": {},
   "source": [
    "### model evaluation(test, validation, train)"
   ]
  },
  {
   "cell_type": "code",
   "execution_count": null,
   "metadata": {},
   "outputs": [],
   "source": [
    "# # tf.argmax(y, axis = 1)\n",
    "# # shape(y) == [None, img_classes]  # (0, 1)\n",
    "\n",
    "# correct = tf.equal(tf.argmax(y, 1), tf.argmax(prediction, 1)) \n",
    "# accuracy = tf.reduce_mean(tf.cast(correct, tf.float32))"
   ]
  },
  {
   "cell_type": "markdown",
   "metadata": {},
   "source": [
    "or"
   ]
  },
  {
   "cell_type": "code",
   "execution_count": null,
   "metadata": {},
   "outputs": [],
   "source": [
    "correct = tf.nn.in_top_k(prediction, y, 1)\n",
    "accuracy = tf.reduce_mean(tf.cast(correct, tf.float32))"
   ]
  },
  {
   "cell_type": "markdown",
   "metadata": {},
   "source": [
    "# Build a session"
   ]
  },
  {
   "cell_type": "code",
   "execution_count": null,
   "metadata": {},
   "outputs": [],
   "source": [
    "# 存储器\n",
    "loss_summary = tf.summary.scalar('loss', loss)\n",
    "acc_summary = tf.summary.scalar('acc', accuracy)\n",
    "\n",
    "merged = tf.summary.merge_all()\n",
    "\n",
    "# 写出到磁盘上\n",
    "log_dir = '../mnist_models'\n",
    "file_writer = tf.summary.FileWriter(log_dir, tf.get_default_graph())\n",
    "\n",
    "model_path = '../mnist_models'\n",
    "saver = tf.train.Saver()"
   ]
  },
  {
   "cell_type": "code",
   "execution_count": null,
   "metadata": {},
   "outputs": [],
   "source": [
    "init = tf.global_variables_initializer()\n",
    "\n",
    "n_steps = img_height\n",
    "n_inputs = img_width\n",
    "\n",
    "with tf.Session() as sess:\n",
    "    \n",
    "    sess.run(init)\n",
    "#     saver.restore(sess, model_path)\n",
    "    \n",
    "    for epoch in range(n_epochs):\n",
    "        \n",
    "        # train\n",
    "        x_batch, y_batch = mnist.train.next_batch(batch_size)\n",
    "        x_batch_rnn = np.reshape(x_batch, [-1, n_steps, n_inputs])\n",
    "        merged_str, train_acc, _ = sess.run(\n",
    "            [merged, accuracy, train], \n",
    "            feed_dict = {x:x_batch_rnn, y:y_batch})\n",
    "        \n",
    "        # test\n",
    "        x_batch, y_batch = mnist.test.next_batch(batch_size)\n",
    "        x_batch_rnn = np.reshape(x_batch, [-1, n_steps, n_inputs])\n",
    "        test_acc = sess.run(accuracy, \n",
    "                            feed_dict = {x:x_batch_rnn, y:y_batch})\n",
    "        \n",
    "        file_writer.add_summary(merged_str, epoch)\n",
    "        \n",
    "        print(\"epoch: \", str(epoch), \"; train_acc: \", str(train_acc),\n",
    "             \"; test_acc: \", str(test_acc))\n",
    "        \n",
    "        if epoch % 100 == 0:\n",
    "            saver.save(sess, model_path)\n",
    "    \n",
    "    file_writer.close( )    "
   ]
  },
  {
   "cell_type": "code",
   "execution_count": null,
   "metadata": {},
   "outputs": [],
   "source": []
  },
  {
   "cell_type": "code",
   "execution_count": null,
   "metadata": {},
   "outputs": [],
   "source": []
  },
  {
   "cell_type": "code",
   "execution_count": null,
   "metadata": {},
   "outputs": [],
   "source": []
  },
  {
   "cell_type": "code",
   "execution_count": null,
   "metadata": {},
   "outputs": [],
   "source": []
  },
  {
   "cell_type": "code",
   "execution_count": null,
   "metadata": {},
   "outputs": [],
   "source": []
  }
 ],
 "metadata": {
  "kernelspec": {
   "display_name": "Python 3",
   "language": "python",
   "name": "python3"
  },
  "language_info": {
   "codemirror_mode": {
    "name": "ipython",
    "version": 3
   },
   "file_extension": ".py",
   "mimetype": "text/x-python",
   "name": "python",
   "nbconvert_exporter": "python",
   "pygments_lexer": "ipython3",
   "version": "3.6.4"
  }
 },
 "nbformat": 4,
 "nbformat_minor": 2
}
