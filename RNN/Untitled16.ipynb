{
 "cells": [
  {
   "cell_type": "code",
   "execution_count": 1,
   "metadata": {
    "collapsed": true
   },
   "outputs": [],
   "source": [
    "import tensorflow as tf\n",
    "import numpy as np\n",
    "import matplotlib.pyplot as plt"
   ]
  },
  {
   "cell_type": "code",
   "execution_count": 2,
   "metadata": {
    "collapsed": true
   },
   "outputs": [],
   "source": [
    "def reset_graph(seed = 318):\n",
    "    tf.reset_default_graph( )\n",
    "    tf.set_random_seed(seed)\n",
    "    np.random.seed(seed)"
   ]
  },
  {
   "cell_type": "code",
   "execution_count": 3,
   "metadata": {
    "collapsed": true
   },
   "outputs": [],
   "source": [
    "from tensorflow.examples.tutorials.mnist import input_data"
   ]
  },
  {
   "cell_type": "code",
   "execution_count": 4,
   "metadata": {},
   "outputs": [
    {
     "name": "stdout",
     "output_type": "stream",
     "text": [
      "Extracting ../CNN/data/mnist\\train-images-idx3-ubyte.gz\n",
      "Extracting ../CNN/data/mnist\\train-labels-idx1-ubyte.gz\n",
      "Extracting ../CNN/data/mnist\\t10k-images-idx3-ubyte.gz\n",
      "Extracting ../CNN/data/mnist\\t10k-labels-idx1-ubyte.gz\n"
     ]
    }
   ],
   "source": [
    "# mnist = input_data.read_data_sets(\"/data/stu12/mnist/\", one_hot = True)\n",
    "mnist = input_data.read_data_sets(\"../CNN/data/mnist\")"
   ]
  },
  {
   "cell_type": "code",
   "execution_count": 5,
   "metadata": {
    "scrolled": true
   },
   "outputs": [
    {
     "data": {
      "text/plain": [
       "(55000,)"
      ]
     },
     "execution_count": 5,
     "metadata": {},
     "output_type": "execute_result"
    }
   ],
   "source": [
    "mnist.train.labels.shape\n",
    "# shape(x) = [None, 784]"
   ]
  },
  {
   "cell_type": "markdown",
   "metadata": {},
   "source": [
    "### constant"
   ]
  },
  {
   "cell_type": "code",
   "execution_count": 6,
   "metadata": {
    "collapsed": true
   },
   "outputs": [],
   "source": [
    "# image\n",
    "img_height = 28\n",
    "img_width = 28\n",
    "img_size = img_height*img_width\n",
    "img_channels = 1\n",
    "img_classes = 10\n",
    "\n",
    "# kernel_height = 5\n",
    "# kernel_width = 5\n",
    "\n",
    "n_inputs = img_width\n",
    "n_steps = img_height\n",
    "\n",
    "learning_rate = 1e-4\n",
    "\n",
    "n_epochs = 10000\n",
    "\n",
    "# INPUT: (n_kernels == n_channels)\n",
    "# shape(x) == [None, img_height, img_width, last_n_kernels]\n",
    "# shape(kernel) == [kernel_height, kernel_width, last_n_kernels, cur_n_kernels]\n",
    "# padding == 'SAME'\n",
    "# \n",
    "# OUTPUT:\n",
    "# shape(conv) == [None, img_height, img_width, cur_n_kernels]\n",
    "\n",
    "# n_kernels_conv1 = 24\n",
    "# n_kernels_conv2 = 18\n",
    "\n",
    "# n_neurons_dense1 = 24\n",
    "# n_neurons_dense2 = 18\n",
    "n_outputs = 10\n",
    "\n",
    "n_neurons = 50\n",
    "\n",
    "batch_size = 10"
   ]
  },
  {
   "cell_type": "markdown",
   "metadata": {},
   "source": [
    "### placeholder variables"
   ]
  },
  {
   "cell_type": "code",
   "execution_count": 7,
   "metadata": {
    "collapsed": true
   },
   "outputs": [],
   "source": [
    "reset_graph()\n",
    "\n",
    "x = tf.placeholder(tf.float32, [None, n_steps, n_inputs])\n",
    "\n",
    "# y = tf.placeholder(tf.float32, [None, img_classes])\n",
    "y = tf.placeholder(tf.int32, [None])"
   ]
  },
  {
   "cell_type": "markdown",
   "metadata": {},
   "source": [
    "### model"
   ]
  },
  {
   "cell_type": "code",
   "execution_count": 8,
   "metadata": {
    "collapsed": true
   },
   "outputs": [],
   "source": [
    "basic_cell = tf.contrib.rnn.BasicRNNCell(n_neurons)\n",
    "outputs, states = tf.nn.dynamic_rnn(basic_cell, x, \n",
    "                                    dtype = tf.float32)\n",
    "\n",
    "prediction = tf.layers.dense(outputs[-1], n_outputs)"
   ]
  },
  {
   "cell_type": "code",
   "execution_count": 9,
   "metadata": {},
   "outputs": [
    {
     "data": {
      "text/plain": [
       "TensorShape([Dimension(None), Dimension(28), Dimension(50)])"
      ]
     },
     "execution_count": 9,
     "metadata": {},
     "output_type": "execute_result"
    }
   ],
   "source": [
    "outputs.shape"
   ]
  },
  {
   "cell_type": "code",
   "execution_count": 10,
   "metadata": {},
   "outputs": [
    {
     "data": {
      "text/plain": [
       "TensorShape([Dimension(None), Dimension(50)])"
      ]
     },
     "execution_count": 10,
     "metadata": {},
     "output_type": "execute_result"
    }
   ],
   "source": [
    "states.shape"
   ]
  },
  {
   "cell_type": "code",
   "execution_count": 12,
   "metadata": {},
   "outputs": [
    {
     "name": "stdout",
     "output_type": "stream",
     "text": [
      "Tensor(\"strided_slice_2:0\", shape=(28, 50), dtype=float32)\n"
     ]
    }
   ],
   "source": [
    "print(outputs[-1])"
   ]
  },
  {
   "cell_type": "code",
   "execution_count": null,
   "metadata": {
    "collapsed": true
   },
   "outputs": [],
   "source": [
    "# def conv_layer(x, n_kernels, activation = None):\n",
    "    \n",
    "#     # w / filter / kernel\n",
    "#     # shape(x) = [None, img_height, img_width, input_channels]\n",
    "#     # shape(w) = [kernel_height, kernel_width, input_channels, n_kernels]\n",
    "#     # shape(b) = [n_kernels]\n",
    "    \n",
    "#     n_inputs = int(x.get_shape()[-1])\n",
    "#     stddev = 2 / np.sqrt(n_inputs)\n",
    "#     W_init = tf.truncated_normal([kernel_height, kernel_width, n_inputs, n_kernels], stddev = stddev)\n",
    "#     W = tf.Variable(W_init)\n",
    "    \n",
    "#     b_init = tf.zeros([n_kernels], tf.float32)\n",
    "#     b = tf.Variable(b_init)\n",
    "    \n",
    "#     # Convolution (sigma)\n",
    "#     conv = tf.nn.conv2d(x, W, strides = [1,1,1,1], padding = 'SAME')\n",
    "#     sigma = conv + b   # broadcasting\n",
    "\n",
    "#     # non-linear transform\n",
    "#     if activation is not None:\n",
    "#         act = activation(sigma)\n",
    "#     else:\n",
    "#         act = sigma\n",
    "        \n",
    "#     # pooling\n",
    "#     # shape(x) = [None, img_height, img_width, input_channels]\n",
    "#     pool = tf.nn.max_pool(act, ksize = [1,2,2,1], strides=[1,2,2,1], padding = 'SAME')\n",
    "        \n",
    "#     return pool    "
   ]
  },
  {
   "cell_type": "code",
   "execution_count": null,
   "metadata": {
    "collapsed": true
   },
   "outputs": [],
   "source": [
    "# def dense_layer(x, n_neurons, activation = None):\n",
    "    \n",
    "#     #shape(x) = [None, pic_size * pic_channels]\n",
    "#     #shape(w) = [n_inputs, n_neurons]\n",
    "#     #shape(b) = [n_neurons]\n",
    "#     with tf.name_scope('dense'):\n",
    "#         n_inputs = int(x.get_shape()[-1])\n",
    "#         stddev = 2 / np.sqrt(n_inputs)\n",
    "#         W_init = tf.truncated_normal([n_inputs, n_neurons], stddev = stddev)\n",
    "#         W = tf.Variable(W_init, name='W_dense')\n",
    "\n",
    "#         b_init = tf.zeros([n_neurons])\n",
    "#         b = tf.Variable(b_init, name = 'b_dense')\n",
    "\n",
    "#         # sigma\n",
    "#         sigma = tf.matmul(x, W) + b\n",
    "\n",
    "#     # non-linear transformation\n",
    "#     if activation is not None:\n",
    "#         return activation(sigma)\n",
    "#     else:\n",
    "#         return sigma"
   ]
  },
  {
   "cell_type": "code",
   "execution_count": null,
   "metadata": {
    "collapsed": true
   },
   "outputs": [],
   "source": [
    "# # 把输入变成卷机网络输入所要求的格式\n",
    "# x_conv = tf.reshape(x, [-1, img_height, img_width, img_channels])\n",
    "\n",
    "# # 第一层卷机网络\n",
    "# conv1 = conv_layer(x_conv, n_kernels_conv1, tf.nn.relu)\n",
    "\n",
    "# # 第二层卷积网络\n",
    "# conv2 = conv_layer(conv1, n_kernels_conv2, tf.nn.relu)\n",
    "\n",
    "# # shape(conv2) == [None, 7, 7, n_kernels_conv2]\n",
    "\n",
    "# # 全连接层第一层\n",
    "# # shape(x_dense) == [None, 7*7*n_kernels_conv2]\n",
    "\n",
    "# # 把上一层的输出数据格式转换成全连接网络输入所需要的格式\n",
    "# x_dense = tf.reshape(conv2, [-1, 7*7*n_kernels_conv2])\n",
    "# dense1 = dense_layer(x_dense, n_neurons_dense1, tf.nn.tanh)\n",
    "# dense2 = dense_layer(dense1, n_neurons_dense2, tf.nn.tanh)\n",
    "# prediction = dense_layer(dense2, n_outputs, tf.nn.softmax)"
   ]
  },
  {
   "cell_type": "code",
   "execution_count": null,
   "metadata": {
    "collapsed": true,
    "scrolled": true
   },
   "outputs": [],
   "source": [
    "# #输入数据格式转换成圈基层要求的格式\n",
    "# x_conv = tf.reshape(x, [-1, img_height, img_width, img_channels])\n",
    "\n",
    "# #第一卷积曾\n",
    "# conv1 = tf.layers.conv2d(x_conv, n_kernels_conv1, \n",
    "#                          kernel_size = (kernel_height, kernel_width), \n",
    "#                          strides = (1,1), \n",
    "#                          padding = 'same', activation = tf.nn.relu)\n",
    "# pool1 = tf.layers.max_pooling2d(conv1, (2, 2), strides = (2,2), padding = 'same')\n",
    "\n",
    "# # 第二卷积层\n",
    "# conv2 = tf.layers.conv2d(pool1, n_kernels_conv2,\n",
    "#                         kernel_size = (kernel_height, kernel_width),\n",
    "#                         strides = (1,1),\n",
    "#                         padding = 'same', activation = tf.nn.relu)\n",
    "# pool2 = tf.layers.max_pooling2d(conv2, (2, 2), strides = (2,2), padding = 'same')"
   ]
  },
  {
   "cell_type": "code",
   "execution_count": null,
   "metadata": {
    "collapsed": true,
    "scrolled": true
   },
   "outputs": [],
   "source": [
    "# x_conv = tf.reshape(x, [-1, img_height, img_width, img_channels])\n",
    "\n",
    "# conv1 = tf.layers.conv2d(x_conv, n_kernels_conv1, (5,5), padding='same', activation = tf.nn.relu)\n",
    "# print(conv1.shape)\n",
    "# pool1 = tf.layers.max_pooling2d(conv1, (2,2), (2,2), padding='same')\n",
    "# print(pool1.shape)\n",
    "# conv2 = tf.layers.conv2d(pool1, n_kernels_conv2, (5,5), padding='same', activation=tf.nn.relu)\n",
    "# print(conv2.shape)\n",
    "# pool1 = tf.layers.max_pooling2d(conv2, (2,2), (2,2), padding='same')\n",
    "# print(pool1.shape)\n",
    "\n",
    "# x_dense = tf.reshape(pool1, [-1, 7*7*n_kernels_conv2])\n",
    "# print(x_dense.shape)\n",
    "\n",
    "# dense1 = tf.layers.dense(x_dense, n_neurons_dense1, activation = tf.nn.tanh)\n",
    "# print(dense1.shape)\n",
    "# dense2 = tf.layers.dense(dense1, n_neurons_dense2, activation= tf.nn.tanh)\n",
    "# print(dense2.shape)\n",
    "# prediction = tf.layers.dense(dense2, n_outputs)\n",
    "# print(prediction.shape)"
   ]
  },
  {
   "cell_type": "code",
   "execution_count": null,
   "metadata": {
    "collapsed": true
   },
   "outputs": [],
   "source": [
    "# # 把卷积层输出数据的格式转换成全连接层需要的格式\n",
    "# x_dense = tf.reshape(pool2, [-1, 7*7*n_kernels_conv2])\n",
    "\n",
    "# # 第一全连接层\n",
    "# dense1 = tf.layers.dense(x_dense, n_neurons_dense1, activation=tf.nn.tanh)\n",
    "\n",
    "# # 第二全连接层\n",
    "# dense2 = tf.layers.dense(dense1, n_neurons_dense2, activation=tf.nn.tanh)\n",
    "\n",
    "# # 输出 (原来用softmax)\n",
    "# prediction = tf.layers.dense(dense2, img_classes)"
   ]
  },
  {
   "cell_type": "markdown",
   "metadata": {},
   "source": [
    "### loss function(train)"
   ]
  },
  {
   "cell_type": "code",
   "execution_count": 13,
   "metadata": {
    "collapsed": true
   },
   "outputs": [],
   "source": [
    "cross_entropy = tf.nn.sparse_softmax_cross_entropy_with_logits(\n",
    "    labels = y, logits = prediction)\n",
    "\n",
    "loss = tf.reduce_mean(cross_entropy)"
   ]
  },
  {
   "cell_type": "markdown",
   "metadata": {},
   "source": [
    "### optimizer"
   ]
  },
  {
   "cell_type": "code",
   "execution_count": 14,
   "metadata": {
    "collapsed": true
   },
   "outputs": [],
   "source": [
    "train = tf.train.AdamOptimizer(learning_rate).minimize(loss)"
   ]
  },
  {
   "cell_type": "markdown",
   "metadata": {},
   "source": [
    "### model evaluation(test, validation, train)"
   ]
  },
  {
   "cell_type": "code",
   "execution_count": null,
   "metadata": {
    "collapsed": true
   },
   "outputs": [],
   "source": [
    "# # tf.argmax(y, axis = 1)\n",
    "# # shape(y) == [None, img_classes]  # (0, 1)\n",
    "\n",
    "# correct = tf.equal(tf.argmax(y, 1), tf.argmax(prediction, 1)) \n",
    "# accuracy = tf.reduce_mean(tf.cast(correct, tf.float32))"
   ]
  },
  {
   "cell_type": "code",
   "execution_count": 15,
   "metadata": {
    "collapsed": true
   },
   "outputs": [],
   "source": [
    "correct = tf.nn.in_top_k(prediction, y, 1)\n",
    "accuracy = tf.reduce_mean(tf.cast(correct, tf.float32))"
   ]
  },
  {
   "cell_type": "markdown",
   "metadata": {},
   "source": [
    "# Build a session"
   ]
  },
  {
   "cell_type": "code",
   "execution_count": 17,
   "metadata": {
    "collapsed": true
   },
   "outputs": [],
   "source": [
    "# 存储器\n",
    "loss_summary = tf.summary.scalar('loss', loss)\n",
    "acc_summary = tf.summary.scalar('acc', accuracy)\n",
    "\n",
    "merged = tf.summary.merge_all()\n",
    "\n",
    "# 写出到磁盘上\n",
    "log_dir = '../mnist_models'\n",
    "file_writer = tf.summary.FileWriter(log_dir, tf.get_default_graph())\n",
    "\n",
    "model_path = '../mnist_models'\n",
    "saver = tf.train.Saver()"
   ]
  },
  {
   "cell_type": "code",
   "execution_count": 18,
   "metadata": {},
   "outputs": [
    {
     "ename": "InvalidArgumentError",
     "evalue": "First dimension of predictions 28 must match length of targets 10\n\t [[Node: InTopK = InTopK[T=DT_INT32, k=1, _device=\"/job:localhost/replica:0/task:0/cpu:0\"](dense/BiasAdd, _arg_Placeholder_1_0_1)]]\n\nCaused by op 'InTopK', defined at:\n  File \"C:\\Users\\stuian\\AppData\\Local\\Continuum\\anaconda3\\lib\\runpy.py\", line 193, in _run_module_as_main\n    \"__main__\", mod_spec)\n  File \"C:\\Users\\stuian\\AppData\\Local\\Continuum\\anaconda3\\lib\\runpy.py\", line 85, in _run_code\n    exec(code, run_globals)\n  File \"C:\\Users\\stuian\\AppData\\Local\\Continuum\\anaconda3\\lib\\site-packages\\ipykernel_launcher.py\", line 16, in <module>\n    app.launch_new_instance()\n  File \"C:\\Users\\stuian\\AppData\\Local\\Continuum\\anaconda3\\lib\\site-packages\\traitlets\\config\\application.py\", line 658, in launch_instance\n    app.start()\n  File \"C:\\Users\\stuian\\AppData\\Local\\Continuum\\anaconda3\\lib\\site-packages\\ipykernel\\kernelapp.py\", line 477, in start\n    ioloop.IOLoop.instance().start()\n  File \"C:\\Users\\stuian\\AppData\\Local\\Continuum\\anaconda3\\lib\\site-packages\\zmq\\eventloop\\ioloop.py\", line 177, in start\n    super(ZMQIOLoop, self).start()\n  File \"C:\\Users\\stuian\\AppData\\Local\\Continuum\\anaconda3\\lib\\site-packages\\tornado\\ioloop.py\", line 888, in start\n    handler_func(fd_obj, events)\n  File \"C:\\Users\\stuian\\AppData\\Local\\Continuum\\anaconda3\\lib\\site-packages\\tornado\\stack_context.py\", line 277, in null_wrapper\n    return fn(*args, **kwargs)\n  File \"C:\\Users\\stuian\\AppData\\Local\\Continuum\\anaconda3\\lib\\site-packages\\zmq\\eventloop\\zmqstream.py\", line 440, in _handle_events\n    self._handle_recv()\n  File \"C:\\Users\\stuian\\AppData\\Local\\Continuum\\anaconda3\\lib\\site-packages\\zmq\\eventloop\\zmqstream.py\", line 472, in _handle_recv\n    self._run_callback(callback, msg)\n  File \"C:\\Users\\stuian\\AppData\\Local\\Continuum\\anaconda3\\lib\\site-packages\\zmq\\eventloop\\zmqstream.py\", line 414, in _run_callback\n    callback(*args, **kwargs)\n  File \"C:\\Users\\stuian\\AppData\\Local\\Continuum\\anaconda3\\lib\\site-packages\\tornado\\stack_context.py\", line 277, in null_wrapper\n    return fn(*args, **kwargs)\n  File \"C:\\Users\\stuian\\AppData\\Local\\Continuum\\anaconda3\\lib\\site-packages\\ipykernel\\kernelbase.py\", line 283, in dispatcher\n    return self.dispatch_shell(stream, msg)\n  File \"C:\\Users\\stuian\\AppData\\Local\\Continuum\\anaconda3\\lib\\site-packages\\ipykernel\\kernelbase.py\", line 235, in dispatch_shell\n    handler(stream, idents, msg)\n  File \"C:\\Users\\stuian\\AppData\\Local\\Continuum\\anaconda3\\lib\\site-packages\\ipykernel\\kernelbase.py\", line 399, in execute_request\n    user_expressions, allow_stdin)\n  File \"C:\\Users\\stuian\\AppData\\Local\\Continuum\\anaconda3\\lib\\site-packages\\ipykernel\\ipkernel.py\", line 196, in do_execute\n    res = shell.run_cell(code, store_history=store_history, silent=silent)\n  File \"C:\\Users\\stuian\\AppData\\Local\\Continuum\\anaconda3\\lib\\site-packages\\ipykernel\\zmqshell.py\", line 533, in run_cell\n    return super(ZMQInteractiveShell, self).run_cell(*args, **kwargs)\n  File \"C:\\Users\\stuian\\AppData\\Local\\Continuum\\anaconda3\\lib\\site-packages\\IPython\\core\\interactiveshell.py\", line 2698, in run_cell\n    interactivity=interactivity, compiler=compiler, result=result)\n  File \"C:\\Users\\stuian\\AppData\\Local\\Continuum\\anaconda3\\lib\\site-packages\\IPython\\core\\interactiveshell.py\", line 2802, in run_ast_nodes\n    if self.run_code(code, result):\n  File \"C:\\Users\\stuian\\AppData\\Local\\Continuum\\anaconda3\\lib\\site-packages\\IPython\\core\\interactiveshell.py\", line 2862, in run_code\n    exec(code_obj, self.user_global_ns, self.user_ns)\n  File \"<ipython-input-15-7983649dceaf>\", line 1, in <module>\n    correct = tf.nn.in_top_k(prediction, y, 1)\n  File \"C:\\Users\\stuian\\AppData\\Local\\Continuum\\anaconda3\\lib\\site-packages\\tensorflow\\python\\ops\\gen_nn_ops.py\", line 1466, in in_top_k\n    targets=targets, k=k, name=name)\n  File \"C:\\Users\\stuian\\AppData\\Local\\Continuum\\anaconda3\\lib\\site-packages\\tensorflow\\python\\framework\\op_def_library.py\", line 767, in apply_op\n    op_def=op_def)\n  File \"C:\\Users\\stuian\\AppData\\Local\\Continuum\\anaconda3\\lib\\site-packages\\tensorflow\\python\\framework\\ops.py\", line 2506, in create_op\n    original_op=self._default_original_op, op_def=op_def)\n  File \"C:\\Users\\stuian\\AppData\\Local\\Continuum\\anaconda3\\lib\\site-packages\\tensorflow\\python\\framework\\ops.py\", line 1269, in __init__\n    self._traceback = _extract_stack()\n\nInvalidArgumentError (see above for traceback): First dimension of predictions 28 must match length of targets 10\n\t [[Node: InTopK = InTopK[T=DT_INT32, k=1, _device=\"/job:localhost/replica:0/task:0/cpu:0\"](dense/BiasAdd, _arg_Placeholder_1_0_1)]]\n",
     "output_type": "error",
     "traceback": [
      "\u001b[1;31m---------------------------------------------------------------------------\u001b[0m",
      "\u001b[1;31mInvalidArgumentError\u001b[0m                      Traceback (most recent call last)",
      "\u001b[1;32m~\\AppData\\Local\\Continuum\\anaconda3\\lib\\site-packages\\tensorflow\\python\\client\\session.py\u001b[0m in \u001b[0;36m_do_call\u001b[1;34m(self, fn, *args)\u001b[0m\n\u001b[0;32m   1138\u001b[0m     \u001b[1;32mtry\u001b[0m\u001b[1;33m:\u001b[0m\u001b[1;33m\u001b[0m\u001b[0m\n\u001b[1;32m-> 1139\u001b[1;33m       \u001b[1;32mreturn\u001b[0m \u001b[0mfn\u001b[0m\u001b[1;33m(\u001b[0m\u001b[1;33m*\u001b[0m\u001b[0margs\u001b[0m\u001b[1;33m)\u001b[0m\u001b[1;33m\u001b[0m\u001b[0m\n\u001b[0m\u001b[0;32m   1140\u001b[0m     \u001b[1;32mexcept\u001b[0m \u001b[0merrors\u001b[0m\u001b[1;33m.\u001b[0m\u001b[0mOpError\u001b[0m \u001b[1;32mas\u001b[0m \u001b[0me\u001b[0m\u001b[1;33m:\u001b[0m\u001b[1;33m\u001b[0m\u001b[0m\n",
      "\u001b[1;32m~\\AppData\\Local\\Continuum\\anaconda3\\lib\\site-packages\\tensorflow\\python\\client\\session.py\u001b[0m in \u001b[0;36m_run_fn\u001b[1;34m(session, feed_dict, fetch_list, target_list, options, run_metadata)\u001b[0m\n\u001b[0;32m   1120\u001b[0m                                  \u001b[0mfeed_dict\u001b[0m\u001b[1;33m,\u001b[0m \u001b[0mfetch_list\u001b[0m\u001b[1;33m,\u001b[0m \u001b[0mtarget_list\u001b[0m\u001b[1;33m,\u001b[0m\u001b[1;33m\u001b[0m\u001b[0m\n\u001b[1;32m-> 1121\u001b[1;33m                                  status, run_metadata)\n\u001b[0m\u001b[0;32m   1122\u001b[0m \u001b[1;33m\u001b[0m\u001b[0m\n",
      "\u001b[1;32m~\\AppData\\Local\\Continuum\\anaconda3\\lib\\contextlib.py\u001b[0m in \u001b[0;36m__exit__\u001b[1;34m(self, type, value, traceback)\u001b[0m\n\u001b[0;32m     87\u001b[0m             \u001b[1;32mtry\u001b[0m\u001b[1;33m:\u001b[0m\u001b[1;33m\u001b[0m\u001b[0m\n\u001b[1;32m---> 88\u001b[1;33m                 \u001b[0mnext\u001b[0m\u001b[1;33m(\u001b[0m\u001b[0mself\u001b[0m\u001b[1;33m.\u001b[0m\u001b[0mgen\u001b[0m\u001b[1;33m)\u001b[0m\u001b[1;33m\u001b[0m\u001b[0m\n\u001b[0m\u001b[0;32m     89\u001b[0m             \u001b[1;32mexcept\u001b[0m \u001b[0mStopIteration\u001b[0m\u001b[1;33m:\u001b[0m\u001b[1;33m\u001b[0m\u001b[0m\n",
      "\u001b[1;32m~\\AppData\\Local\\Continuum\\anaconda3\\lib\\site-packages\\tensorflow\\python\\framework\\errors_impl.py\u001b[0m in \u001b[0;36mraise_exception_on_not_ok_status\u001b[1;34m()\u001b[0m\n\u001b[0;32m    465\u001b[0m           \u001b[0mcompat\u001b[0m\u001b[1;33m.\u001b[0m\u001b[0mas_text\u001b[0m\u001b[1;33m(\u001b[0m\u001b[0mpywrap_tensorflow\u001b[0m\u001b[1;33m.\u001b[0m\u001b[0mTF_Message\u001b[0m\u001b[1;33m(\u001b[0m\u001b[0mstatus\u001b[0m\u001b[1;33m)\u001b[0m\u001b[1;33m)\u001b[0m\u001b[1;33m,\u001b[0m\u001b[1;33m\u001b[0m\u001b[0m\n\u001b[1;32m--> 466\u001b[1;33m           pywrap_tensorflow.TF_GetCode(status))\n\u001b[0m\u001b[0;32m    467\u001b[0m   \u001b[1;32mfinally\u001b[0m\u001b[1;33m:\u001b[0m\u001b[1;33m\u001b[0m\u001b[0m\n",
      "\u001b[1;31mInvalidArgumentError\u001b[0m: First dimension of predictions 28 must match length of targets 10\n\t [[Node: InTopK = InTopK[T=DT_INT32, k=1, _device=\"/job:localhost/replica:0/task:0/cpu:0\"](dense/BiasAdd, _arg_Placeholder_1_0_1)]]",
      "\nDuring handling of the above exception, another exception occurred:\n",
      "\u001b[1;31mInvalidArgumentError\u001b[0m                      Traceback (most recent call last)",
      "\u001b[1;32m<ipython-input-18-1072ae11007e>\u001b[0m in \u001b[0;36m<module>\u001b[1;34m()\u001b[0m\n\u001b[0;32m     16\u001b[0m         merged_str, train_acc, _ = sess.run(\n\u001b[0;32m     17\u001b[0m             \u001b[1;33m[\u001b[0m\u001b[0mmerged\u001b[0m\u001b[1;33m,\u001b[0m \u001b[0maccuracy\u001b[0m\u001b[1;33m,\u001b[0m \u001b[0mtrain\u001b[0m\u001b[1;33m]\u001b[0m\u001b[1;33m,\u001b[0m\u001b[1;33m\u001b[0m\u001b[0m\n\u001b[1;32m---> 18\u001b[1;33m             feed_dict = {x:x_batch_rnn, y:y_batch})\n\u001b[0m\u001b[0;32m     19\u001b[0m \u001b[1;33m\u001b[0m\u001b[0m\n\u001b[0;32m     20\u001b[0m         \u001b[1;31m# test\u001b[0m\u001b[1;33m\u001b[0m\u001b[1;33m\u001b[0m\u001b[0m\n",
      "\u001b[1;32m~\\AppData\\Local\\Continuum\\anaconda3\\lib\\site-packages\\tensorflow\\python\\client\\session.py\u001b[0m in \u001b[0;36mrun\u001b[1;34m(self, fetches, feed_dict, options, run_metadata)\u001b[0m\n\u001b[0;32m    787\u001b[0m     \u001b[1;32mtry\u001b[0m\u001b[1;33m:\u001b[0m\u001b[1;33m\u001b[0m\u001b[0m\n\u001b[0;32m    788\u001b[0m       result = self._run(None, fetches, feed_dict, options_ptr,\n\u001b[1;32m--> 789\u001b[1;33m                          run_metadata_ptr)\n\u001b[0m\u001b[0;32m    790\u001b[0m       \u001b[1;32mif\u001b[0m \u001b[0mrun_metadata\u001b[0m\u001b[1;33m:\u001b[0m\u001b[1;33m\u001b[0m\u001b[0m\n\u001b[0;32m    791\u001b[0m         \u001b[0mproto_data\u001b[0m \u001b[1;33m=\u001b[0m \u001b[0mtf_session\u001b[0m\u001b[1;33m.\u001b[0m\u001b[0mTF_GetBuffer\u001b[0m\u001b[1;33m(\u001b[0m\u001b[0mrun_metadata_ptr\u001b[0m\u001b[1;33m)\u001b[0m\u001b[1;33m\u001b[0m\u001b[0m\n",
      "\u001b[1;32m~\\AppData\\Local\\Continuum\\anaconda3\\lib\\site-packages\\tensorflow\\python\\client\\session.py\u001b[0m in \u001b[0;36m_run\u001b[1;34m(self, handle, fetches, feed_dict, options, run_metadata)\u001b[0m\n\u001b[0;32m    995\u001b[0m     \u001b[1;32mif\u001b[0m \u001b[0mfinal_fetches\u001b[0m \u001b[1;32mor\u001b[0m \u001b[0mfinal_targets\u001b[0m\u001b[1;33m:\u001b[0m\u001b[1;33m\u001b[0m\u001b[0m\n\u001b[0;32m    996\u001b[0m       results = self._do_run(handle, final_targets, final_fetches,\n\u001b[1;32m--> 997\u001b[1;33m                              feed_dict_string, options, run_metadata)\n\u001b[0m\u001b[0;32m    998\u001b[0m     \u001b[1;32melse\u001b[0m\u001b[1;33m:\u001b[0m\u001b[1;33m\u001b[0m\u001b[0m\n\u001b[0;32m    999\u001b[0m       \u001b[0mresults\u001b[0m \u001b[1;33m=\u001b[0m \u001b[1;33m[\u001b[0m\u001b[1;33m]\u001b[0m\u001b[1;33m\u001b[0m\u001b[0m\n",
      "\u001b[1;32m~\\AppData\\Local\\Continuum\\anaconda3\\lib\\site-packages\\tensorflow\\python\\client\\session.py\u001b[0m in \u001b[0;36m_do_run\u001b[1;34m(self, handle, target_list, fetch_list, feed_dict, options, run_metadata)\u001b[0m\n\u001b[0;32m   1130\u001b[0m     \u001b[1;32mif\u001b[0m \u001b[0mhandle\u001b[0m \u001b[1;32mis\u001b[0m \u001b[1;32mNone\u001b[0m\u001b[1;33m:\u001b[0m\u001b[1;33m\u001b[0m\u001b[0m\n\u001b[0;32m   1131\u001b[0m       return self._do_call(_run_fn, self._session, feed_dict, fetch_list,\n\u001b[1;32m-> 1132\u001b[1;33m                            target_list, options, run_metadata)\n\u001b[0m\u001b[0;32m   1133\u001b[0m     \u001b[1;32melse\u001b[0m\u001b[1;33m:\u001b[0m\u001b[1;33m\u001b[0m\u001b[0m\n\u001b[0;32m   1134\u001b[0m       return self._do_call(_prun_fn, self._session, handle, feed_dict,\n",
      "\u001b[1;32m~\\AppData\\Local\\Continuum\\anaconda3\\lib\\site-packages\\tensorflow\\python\\client\\session.py\u001b[0m in \u001b[0;36m_do_call\u001b[1;34m(self, fn, *args)\u001b[0m\n\u001b[0;32m   1150\u001b[0m         \u001b[1;32mexcept\u001b[0m \u001b[0mKeyError\u001b[0m\u001b[1;33m:\u001b[0m\u001b[1;33m\u001b[0m\u001b[0m\n\u001b[0;32m   1151\u001b[0m           \u001b[1;32mpass\u001b[0m\u001b[1;33m\u001b[0m\u001b[0m\n\u001b[1;32m-> 1152\u001b[1;33m       \u001b[1;32mraise\u001b[0m \u001b[0mtype\u001b[0m\u001b[1;33m(\u001b[0m\u001b[0me\u001b[0m\u001b[1;33m)\u001b[0m\u001b[1;33m(\u001b[0m\u001b[0mnode_def\u001b[0m\u001b[1;33m,\u001b[0m \u001b[0mop\u001b[0m\u001b[1;33m,\u001b[0m \u001b[0mmessage\u001b[0m\u001b[1;33m)\u001b[0m\u001b[1;33m\u001b[0m\u001b[0m\n\u001b[0m\u001b[0;32m   1153\u001b[0m \u001b[1;33m\u001b[0m\u001b[0m\n\u001b[0;32m   1154\u001b[0m   \u001b[1;32mdef\u001b[0m \u001b[0m_extend_graph\u001b[0m\u001b[1;33m(\u001b[0m\u001b[0mself\u001b[0m\u001b[1;33m)\u001b[0m\u001b[1;33m:\u001b[0m\u001b[1;33m\u001b[0m\u001b[0m\n",
      "\u001b[1;31mInvalidArgumentError\u001b[0m: First dimension of predictions 28 must match length of targets 10\n\t [[Node: InTopK = InTopK[T=DT_INT32, k=1, _device=\"/job:localhost/replica:0/task:0/cpu:0\"](dense/BiasAdd, _arg_Placeholder_1_0_1)]]\n\nCaused by op 'InTopK', defined at:\n  File \"C:\\Users\\stuian\\AppData\\Local\\Continuum\\anaconda3\\lib\\runpy.py\", line 193, in _run_module_as_main\n    \"__main__\", mod_spec)\n  File \"C:\\Users\\stuian\\AppData\\Local\\Continuum\\anaconda3\\lib\\runpy.py\", line 85, in _run_code\n    exec(code, run_globals)\n  File \"C:\\Users\\stuian\\AppData\\Local\\Continuum\\anaconda3\\lib\\site-packages\\ipykernel_launcher.py\", line 16, in <module>\n    app.launch_new_instance()\n  File \"C:\\Users\\stuian\\AppData\\Local\\Continuum\\anaconda3\\lib\\site-packages\\traitlets\\config\\application.py\", line 658, in launch_instance\n    app.start()\n  File \"C:\\Users\\stuian\\AppData\\Local\\Continuum\\anaconda3\\lib\\site-packages\\ipykernel\\kernelapp.py\", line 477, in start\n    ioloop.IOLoop.instance().start()\n  File \"C:\\Users\\stuian\\AppData\\Local\\Continuum\\anaconda3\\lib\\site-packages\\zmq\\eventloop\\ioloop.py\", line 177, in start\n    super(ZMQIOLoop, self).start()\n  File \"C:\\Users\\stuian\\AppData\\Local\\Continuum\\anaconda3\\lib\\site-packages\\tornado\\ioloop.py\", line 888, in start\n    handler_func(fd_obj, events)\n  File \"C:\\Users\\stuian\\AppData\\Local\\Continuum\\anaconda3\\lib\\site-packages\\tornado\\stack_context.py\", line 277, in null_wrapper\n    return fn(*args, **kwargs)\n  File \"C:\\Users\\stuian\\AppData\\Local\\Continuum\\anaconda3\\lib\\site-packages\\zmq\\eventloop\\zmqstream.py\", line 440, in _handle_events\n    self._handle_recv()\n  File \"C:\\Users\\stuian\\AppData\\Local\\Continuum\\anaconda3\\lib\\site-packages\\zmq\\eventloop\\zmqstream.py\", line 472, in _handle_recv\n    self._run_callback(callback, msg)\n  File \"C:\\Users\\stuian\\AppData\\Local\\Continuum\\anaconda3\\lib\\site-packages\\zmq\\eventloop\\zmqstream.py\", line 414, in _run_callback\n    callback(*args, **kwargs)\n  File \"C:\\Users\\stuian\\AppData\\Local\\Continuum\\anaconda3\\lib\\site-packages\\tornado\\stack_context.py\", line 277, in null_wrapper\n    return fn(*args, **kwargs)\n  File \"C:\\Users\\stuian\\AppData\\Local\\Continuum\\anaconda3\\lib\\site-packages\\ipykernel\\kernelbase.py\", line 283, in dispatcher\n    return self.dispatch_shell(stream, msg)\n  File \"C:\\Users\\stuian\\AppData\\Local\\Continuum\\anaconda3\\lib\\site-packages\\ipykernel\\kernelbase.py\", line 235, in dispatch_shell\n    handler(stream, idents, msg)\n  File \"C:\\Users\\stuian\\AppData\\Local\\Continuum\\anaconda3\\lib\\site-packages\\ipykernel\\kernelbase.py\", line 399, in execute_request\n    user_expressions, allow_stdin)\n  File \"C:\\Users\\stuian\\AppData\\Local\\Continuum\\anaconda3\\lib\\site-packages\\ipykernel\\ipkernel.py\", line 196, in do_execute\n    res = shell.run_cell(code, store_history=store_history, silent=silent)\n  File \"C:\\Users\\stuian\\AppData\\Local\\Continuum\\anaconda3\\lib\\site-packages\\ipykernel\\zmqshell.py\", line 533, in run_cell\n    return super(ZMQInteractiveShell, self).run_cell(*args, **kwargs)\n  File \"C:\\Users\\stuian\\AppData\\Local\\Continuum\\anaconda3\\lib\\site-packages\\IPython\\core\\interactiveshell.py\", line 2698, in run_cell\n    interactivity=interactivity, compiler=compiler, result=result)\n  File \"C:\\Users\\stuian\\AppData\\Local\\Continuum\\anaconda3\\lib\\site-packages\\IPython\\core\\interactiveshell.py\", line 2802, in run_ast_nodes\n    if self.run_code(code, result):\n  File \"C:\\Users\\stuian\\AppData\\Local\\Continuum\\anaconda3\\lib\\site-packages\\IPython\\core\\interactiveshell.py\", line 2862, in run_code\n    exec(code_obj, self.user_global_ns, self.user_ns)\n  File \"<ipython-input-15-7983649dceaf>\", line 1, in <module>\n    correct = tf.nn.in_top_k(prediction, y, 1)\n  File \"C:\\Users\\stuian\\AppData\\Local\\Continuum\\anaconda3\\lib\\site-packages\\tensorflow\\python\\ops\\gen_nn_ops.py\", line 1466, in in_top_k\n    targets=targets, k=k, name=name)\n  File \"C:\\Users\\stuian\\AppData\\Local\\Continuum\\anaconda3\\lib\\site-packages\\tensorflow\\python\\framework\\op_def_library.py\", line 767, in apply_op\n    op_def=op_def)\n  File \"C:\\Users\\stuian\\AppData\\Local\\Continuum\\anaconda3\\lib\\site-packages\\tensorflow\\python\\framework\\ops.py\", line 2506, in create_op\n    original_op=self._default_original_op, op_def=op_def)\n  File \"C:\\Users\\stuian\\AppData\\Local\\Continuum\\anaconda3\\lib\\site-packages\\tensorflow\\python\\framework\\ops.py\", line 1269, in __init__\n    self._traceback = _extract_stack()\n\nInvalidArgumentError (see above for traceback): First dimension of predictions 28 must match length of targets 10\n\t [[Node: InTopK = InTopK[T=DT_INT32, k=1, _device=\"/job:localhost/replica:0/task:0/cpu:0\"](dense/BiasAdd, _arg_Placeholder_1_0_1)]]\n"
     ]
    }
   ],
   "source": [
    "init = tf.global_variables_initializer()\n",
    "\n",
    "n_steps = img_height\n",
    "n_inputs = img_width\n",
    "\n",
    "with tf.Session() as sess:\n",
    "    \n",
    "    sess.run(init)\n",
    "#     saver.restore(sess, model_path)\n",
    "    \n",
    "    for epoch in range(n_epochs):\n",
    "        \n",
    "        # train\n",
    "        x_batch, y_batch = mnist.train.next_batch(batch_size)\n",
    "        x_batch_rnn = np.reshape(x_batch, [-1, n_steps, n_inputs])\n",
    "        merged_str, train_acc, _ = sess.run(\n",
    "            [merged, accuracy, train], \n",
    "            feed_dict = {x:x_batch_rnn, y:y_batch})\n",
    "        \n",
    "        # test\n",
    "        x_batch, y_batch = mnist.test.next_batch(batch_size)\n",
    "        x_batch_rnn = np.reshape(x_batch, [-1, n_steps, n_inputs])\n",
    "        test_acc = sess.run(accuracy, \n",
    "                            feed_dict = {x:x_batch_rnn, y:y_batch})\n",
    "        \n",
    "        file_writer.add_summary(merged_str, epoch)\n",
    "        \n",
    "        print(\"epoch: \", str(epoch), \"; train_acc: \", str(train_acc),\n",
    "             \"; test_acc: \", str(test_acc))\n",
    "        \n",
    "        if epoch % 100 == 0:\n",
    "            saver.save(sess, model_path)\n",
    "    \n",
    "    file_writer.close( )    "
   ]
  },
  {
   "cell_type": "code",
   "execution_count": null,
   "metadata": {
    "collapsed": true
   },
   "outputs": [],
   "source": []
  },
  {
   "cell_type": "code",
   "execution_count": null,
   "metadata": {
    "collapsed": true
   },
   "outputs": [],
   "source": []
  },
  {
   "cell_type": "code",
   "execution_count": null,
   "metadata": {
    "collapsed": true
   },
   "outputs": [],
   "source": []
  },
  {
   "cell_type": "code",
   "execution_count": null,
   "metadata": {
    "collapsed": true
   },
   "outputs": [],
   "source": []
  },
  {
   "cell_type": "code",
   "execution_count": null,
   "metadata": {
    "collapsed": true
   },
   "outputs": [],
   "source": []
  }
 ],
 "metadata": {
  "kernelspec": {
   "display_name": "Python 3",
   "language": "python",
   "name": "python3"
  },
  "language_info": {
   "codemirror_mode": {
    "name": "ipython",
    "version": 3
   },
   "file_extension": ".py",
   "mimetype": "text/x-python",
   "name": "python",
   "nbconvert_exporter": "python",
   "pygments_lexer": "ipython3",
   "version": "3.6.3"
  }
 },
 "nbformat": 4,
 "nbformat_minor": 2
}
