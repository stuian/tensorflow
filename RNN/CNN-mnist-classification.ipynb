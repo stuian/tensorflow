{
 "cells": [
  {
   "cell_type": "code",
   "execution_count": 1,
   "metadata": {},
   "outputs": [
    {
     "name": "stderr",
     "output_type": "stream",
     "text": [
      "C:\\ProgramData\\Anaconda3\\lib\\site-packages\\h5py\\__init__.py:36: FutureWarning: Conversion of the second argument of issubdtype from `float` to `np.floating` is deprecated. In future, it will be treated as `np.float64 == np.dtype(float).type`.\n",
      "  from ._conv import register_converters as _register_converters\n"
     ]
    }
   ],
   "source": [
    "import tensorflow as tf\n",
    "import numpy as np\n",
    "import matplotlib.pyplot as plt"
   ]
  },
  {
   "cell_type": "code",
   "execution_count": 2,
   "metadata": {},
   "outputs": [],
   "source": [
    "def reset_graph(seed = 318):\n",
    "    tf.reset_default_graph( )\n",
    "    tf.set_random_seed(seed)\n",
    "    np.random.seed(seed)"
   ]
  },
  {
   "cell_type": "code",
   "execution_count": 4,
   "metadata": {},
   "outputs": [],
   "source": [
    "import input_data"
   ]
  },
  {
   "cell_type": "code",
   "execution_count": 5,
   "metadata": {},
   "outputs": [
    {
     "name": "stdout",
     "output_type": "stream",
     "text": [
      "Extracting ../mnist/MNIST_data\\train-images-idx3-ubyte.gz\n",
      "Extracting ../mnist/MNIST_data\\train-labels-idx1-ubyte.gz\n",
      "Extracting ../mnist/MNIST_data\\t10k-images-idx3-ubyte.gz\n",
      "Extracting ../mnist/MNIST_data\\t10k-labels-idx1-ubyte.gz\n"
     ]
    }
   ],
   "source": [
    "# mnist = input_data.read_data_sets(\"/data/stu12/mnist/\", one_hot = True)\n",
    "mnist = input_data.read_data_sets(\"../mnist/MNIST_data\")"
   ]
  },
  {
   "cell_type": "code",
   "execution_count": 7,
   "metadata": {},
   "outputs": [
    {
     "data": {
      "text/plain": [
       "(55000, 784)"
      ]
     },
     "execution_count": 7,
     "metadata": {},
     "output_type": "execute_result"
    }
   ],
   "source": [
    "mnist.train.images.shape"
   ]
  },
  {
   "cell_type": "code",
   "execution_count": 6,
   "metadata": {
    "scrolled": true
   },
   "outputs": [
    {
     "data": {
      "text/plain": [
       "(55000,)"
      ]
     },
     "execution_count": 6,
     "metadata": {},
     "output_type": "execute_result"
    }
   ],
   "source": [
    "mnist.train.labels.shape\n",
    "# shape(x) = [None, 784]"
   ]
  },
  {
   "cell_type": "markdown",
   "metadata": {},
   "source": [
    "### constant"
   ]
  },
  {
   "cell_type": "code",
   "execution_count": 8,
   "metadata": {},
   "outputs": [],
   "source": [
    "# image\n",
    "img_height = 28\n",
    "img_width = 28\n",
    "img_size = img_height*img_width\n",
    "img_channels = 1 # 黑白图\n",
    "img_classes = 10\n",
    "\n",
    "kernel_height = 5\n",
    "kernel_width = 5\n",
    "\n",
    "n_inputs = img_width\n",
    "n_steps = img_height\n",
    "\n",
    "learning_rate = 1e-4\n",
    "\n",
    "n_epochs = 10000\n",
    "\n",
    "# INPUT: (n_kernels == n_channels)\n",
    "# shape(x) == [None, img_height, img_width, last_n_kernels]\n",
    "# shape(kernel) == [kernel_height, kernel_width, last_n_kernels, cur_n_kernels]\n",
    "# padding == 'SAME'\n",
    "# \n",
    "# OUTPUT:\n",
    "# shape(conv) == [None, img_height, img_width, cur_n_kernels]\n",
    "\n",
    "n_kernels_conv1 = 24\n",
    "n_kernels_conv2 = 18\n",
    "\n",
    "n_neurons_dense1 = 24\n",
    "n_neurons_dense2 = 18\n",
    "n_outputs = 10\n",
    "\n",
    "n_neurons = 50\n",
    "\n",
    "batch_size = 10"
   ]
  },
  {
   "cell_type": "markdown",
   "metadata": {},
   "source": [
    "### placeholder variables"
   ]
  },
  {
   "cell_type": "code",
   "execution_count": 9,
   "metadata": {},
   "outputs": [],
   "source": [
    "reset_graph()\n",
    "\n",
    "x = tf.placeholder(tf.float32, [None, n_steps, n_inputs])\n",
    "\n",
    "y = tf.placeholder(tf.float32, [None, img_classes])"
   ]
  },
  {
   "cell_type": "markdown",
   "metadata": {},
   "source": [
    "### model"
   ]
  },
  {
   "cell_type": "code",
   "execution_count": 10,
   "metadata": {},
   "outputs": [],
   "source": [
    "def conv_layer(x, n_kernels, activation = None):\n",
    "    \n",
    "    # w / filter / kernel\n",
    "    # shape(x) = [None, img_height, img_width, input_channels]\n",
    "    # shape(w) = [kernel_height, kernel_width, input_channels, n_kernels]\n",
    "    # shape(b) = [n_kernels]\n",
    "    \n",
    "    n_inputs = int(x.get_shape()[-1])\n",
    "    stddev = 2 / np.sqrt(n_inputs)\n",
    "    W_init = tf.truncated_normal([kernel_height, kernel_width, n_inputs, n_kernels], stddev = stddev)\n",
    "    W = tf.Variable(W_init)\n",
    "    \n",
    "    b_init = tf.zeros([n_kernels], tf.float32)\n",
    "    b = tf.Variable(b_init)\n",
    "    \n",
    "    # Convolution (sigma)\n",
    "    conv = tf.nn.conv2d(x, W, strides = [1,1,1,1], padding = 'SAME')\n",
    "    sigma = conv + b   # broadcasting\n",
    "\n",
    "    # non-linear transform\n",
    "    if activation is not None:\n",
    "        act = activation(sigma)\n",
    "    else:\n",
    "        act = sigma\n",
    "        \n",
    "    # pooling\n",
    "    # shape(x) = [None, img_height, img_width, input_channels]\n",
    "    pool = tf.nn.max_pool(act, ksize = [1,2,2,1], strides=[1,2,2,1], padding = 'SAME')\n",
    "        \n",
    "    return pool    "
   ]
  },
  {
   "cell_type": "code",
   "execution_count": 11,
   "metadata": {},
   "outputs": [],
   "source": [
    "def dense_layer(x, n_neurons, activation = None):\n",
    "    \n",
    "    #shape(x) = [None, pic_size * pic_channels]\n",
    "    #shape(w) = [n_inputs, n_neurons]\n",
    "    #shape(b) = [n_neurons]\n",
    "    with tf.name_scope('dense'):\n",
    "        n_inputs = int(x.get_shape()[-1])\n",
    "        stddev = 2 / np.sqrt(n_inputs)\n",
    "        W_init = tf.truncated_normal([n_inputs, n_neurons], stddev = stddev)\n",
    "        W = tf.Variable(W_init, name='W_dense')\n",
    "\n",
    "        b_init = tf.zeros([n_neurons])\n",
    "        b = tf.Variable(b_init, name = 'b_dense')\n",
    "\n",
    "        # sigma\n",
    "        sigma = tf.matmul(x, W) + b\n",
    "\n",
    "    # non-linear transformation\n",
    "    if activation is not None:\n",
    "        return activation(sigma)\n",
    "    else:\n",
    "        return sigma"
   ]
  },
  {
   "cell_type": "code",
   "execution_count": 25,
   "metadata": {},
   "outputs": [],
   "source": [
    "# 把输入变成卷机网络输入所要求的格式\n",
    "x_conv = tf.reshape(x, [-1, img_height, img_width, img_channels])\n",
    "\n",
    "# 第一层卷机网络\n",
    "conv1 = conv_layer(x_conv, n_kernels_conv1, tf.nn.relu)\n",
    "\n",
    "# 第二层卷积网络\n",
    "conv2 = conv_layer(conv1, n_kernels_conv2, tf.nn.relu)\n",
    "\n",
    "# shape(conv2) == [None, 7, 7, n_kernels_conv2]\n",
    "\n",
    "# 全连接层第一层\n",
    "# shape(x_dense) == [None, 7*7*n_kernels_conv2]\n",
    "\n",
    "# 把上一层的输出数据格式转换成全连接网络输入所需要的格式\n",
    "x_dense = tf.reshape(conv2, [-1, 7*7*n_kernels_conv2])\n",
    "dense1 = dense_layer(x_dense, n_neurons_dense1, tf.nn.tanh)\n",
    "dense2 = dense_layer(dense1, n_neurons_dense2, tf.nn.tanh)\n",
    "prediction = dense_layer(dense2, n_outputs, tf.nn.softmax)\n",
    "# prediction = dense_layer(dense2, n_outputs)"
   ]
  },
  {
   "cell_type": "markdown",
   "metadata": {},
   "source": [
    "#### 第二种方法：tensorflow自带的公式将每一层包装"
   ]
  },
  {
   "cell_type": "code",
   "execution_count": null,
   "metadata": {
    "scrolled": true
   },
   "outputs": [],
   "source": [
    "# #输入数据格式转换成圈基层要求的格式\n",
    "# x_conv = tf.reshape(x, [-1, img_height, img_width, img_channels])\n",
    "\n",
    "# #第一卷积曾\n",
    "# conv1 = tf.layers.conv2d(x_conv, n_kernels_conv1, \n",
    "#                          kernel_size = (kernel_height, kernel_width), \n",
    "#                          strides = (1,1), \n",
    "#                          padding = 'same', activation = tf.nn.relu)\n",
    "# pool1 = tf.layers.max_pooling2d(conv1, (2, 2), strides = (2,2), padding = 'same')\n",
    "\n",
    "# # 第二卷积层\n",
    "# conv2 = tf.layers.conv2d(pool1, n_kernels_conv2,\n",
    "#                         kernel_size = (kernel_height, kernel_width),\n",
    "#                         strides = (1,1),\n",
    "#                         padding = 'same', activation = tf.nn.relu)\n",
    "# pool2 = tf.layers.max_pooling2d(conv2, (2, 2), strides = (2,2), padding = 'same')"
   ]
  },
  {
   "cell_type": "code",
   "execution_count": null,
   "metadata": {
    "scrolled": true
   },
   "outputs": [],
   "source": [
    "# x_conv = tf.reshape(x, [-1, img_height, img_width, img_channels])\n",
    "\n",
    "# conv1 = tf.layers.conv2d(x_conv, n_kernels_conv1, (5,5), padding='same', activation = tf.nn.relu)\n",
    "# print(conv1.shape)\n",
    "# pool1 = tf.layers.max_pooling2d(conv1, (2,2), (2,2), padding='same')\n",
    "# print(pool1.shape)\n",
    "# conv2 = tf.layers.conv2d(pool1, n_kernels_conv2, (5,5), padding='same', activation=tf.nn.relu)\n",
    "# print(conv2.shape)\n",
    "# pool1 = tf.layers.max_pooling2d(conv2, (2,2), (2,2), padding='same')\n",
    "# print(pool1.shape)\n",
    "\n",
    "# x_dense = tf.reshape(pool1, [-1, 7*7*n_kernels_conv2])\n",
    "# print(x_dense.shape)\n",
    "\n",
    "# dense1 = tf.layers.dense(x_dense, n_neurons_dense1, activation = tf.nn.tanh)\n",
    "# print(dense1.shape)\n",
    "# dense2 = tf.layers.dense(dense1, n_neurons_dense2, activation= tf.nn.tanh)\n",
    "# print(dense2.shape)\n",
    "# prediction = tf.layers.dense(dense2, n_outputs)\n",
    "# print(prediction.shape)"
   ]
  },
  {
   "cell_type": "code",
   "execution_count": 14,
   "metadata": {},
   "outputs": [],
   "source": [
    "# # 把卷积层输出数据的格式转换成全连接层需要的格式\n",
    "# x_dense = tf.reshape(pool2, [-1, 7*7*n_kernels_conv2])\n",
    "\n",
    "# # 第一全连接层\n",
    "# dense1 = tf.layers.dense(x_dense, n_neurons_dense1, activation=tf.nn.tanh)\n",
    "\n",
    "# # 第二全连接层\n",
    "# dense2 = tf.layers.dense(dense1, n_neurons_dense2, activation=tf.nn.tanh)\n",
    "\n",
    "# # 输出 (原来用softmax)\n",
    "# prediction = tf.layers.dense(dense2, img_classes)"
   ]
  },
  {
   "cell_type": "markdown",
   "metadata": {},
   "source": [
    "### loss function(train)"
   ]
  },
  {
   "cell_type": "code",
   "execution_count": 20,
   "metadata": {},
   "outputs": [],
   "source": [
    "labels = [0,2]\n",
    "\n",
    "logits = [[2,0.5,1],\n",
    "          [0.1,1,3]]\n",
    "\n",
    "\n",
    "result1 = tf.nn.sparse_softmax_cross_entropy_with_logits(labels=labels, logits=logits)"
   ]
  },
  {
   "cell_type": "code",
   "execution_count": 26,
   "metadata": {},
   "outputs": [],
   "source": [
    "cross_entropy = tf.nn.softmax_cross_entropy_with_logits(\n",
    "    labels = y, logits = prediction)\n",
    "\n",
    "loss = tf.reduce_mean(cross_entropy)"
   ]
  },
  {
   "cell_type": "markdown",
   "metadata": {},
   "source": [
    "### optimizer"
   ]
  },
  {
   "cell_type": "code",
   "execution_count": 27,
   "metadata": {},
   "outputs": [],
   "source": [
    "train = tf.train.AdamOptimizer(learning_rate).minimize(loss)"
   ]
  },
  {
   "cell_type": "markdown",
   "metadata": {},
   "source": [
    "### model evaluation(test, validation, train)"
   ]
  },
  {
   "cell_type": "code",
   "execution_count": null,
   "metadata": {},
   "outputs": [],
   "source": [
    "# # tf.argmax(y, axis = 1)\n",
    "# # shape(y) == [None, img_classes]  # (0, 1)\n",
    "\n",
    "# correct = tf.equal(tf.argmax(y, 1), tf.argmax(prediction, 1)) \n",
    "# accuracy = tf.reduce_mean(tf.cast(correct, tf.float32))"
   ]
  },
  {
   "cell_type": "markdown",
   "metadata": {},
   "source": [
    "or"
   ]
  },
  {
   "cell_type": "code",
   "execution_count": 28,
   "metadata": {},
   "outputs": [
    {
     "ename": "TypeError",
     "evalue": "Value passed to parameter 'targets' has DataType float32 not in list of allowed values: int32, int64",
     "output_type": "error",
     "traceback": [
      "\u001b[1;31m---------------------------------------------------------------------------\u001b[0m",
      "\u001b[1;31mTypeError\u001b[0m                                 Traceback (most recent call last)",
      "\u001b[1;32m<ipython-input-28-fde5bc690f3e>\u001b[0m in \u001b[0;36m<module>\u001b[1;34m()\u001b[0m\n\u001b[1;32m----> 1\u001b[1;33m \u001b[0mcorrect\u001b[0m \u001b[1;33m=\u001b[0m \u001b[0mtf\u001b[0m\u001b[1;33m.\u001b[0m\u001b[0mnn\u001b[0m\u001b[1;33m.\u001b[0m\u001b[0min_top_k\u001b[0m\u001b[1;33m(\u001b[0m\u001b[0mprediction\u001b[0m\u001b[1;33m,\u001b[0m \u001b[0my\u001b[0m\u001b[1;33m,\u001b[0m \u001b[1;36m1\u001b[0m\u001b[1;33m)\u001b[0m\u001b[1;33m\u001b[0m\u001b[0m\n\u001b[0m\u001b[0;32m      2\u001b[0m \u001b[0maccuracy\u001b[0m \u001b[1;33m=\u001b[0m \u001b[0mtf\u001b[0m\u001b[1;33m.\u001b[0m\u001b[0mreduce_mean\u001b[0m\u001b[1;33m(\u001b[0m\u001b[0mtf\u001b[0m\u001b[1;33m.\u001b[0m\u001b[0mcast\u001b[0m\u001b[1;33m(\u001b[0m\u001b[0mcorrect\u001b[0m\u001b[1;33m,\u001b[0m \u001b[0mtf\u001b[0m\u001b[1;33m.\u001b[0m\u001b[0mfloat32\u001b[0m\u001b[1;33m)\u001b[0m\u001b[1;33m)\u001b[0m\u001b[1;33m\u001b[0m\u001b[0m\n",
      "\u001b[1;32mC:\\ProgramData\\Anaconda3\\lib\\site-packages\\tensorflow\\python\\ops\\nn_ops.py\u001b[0m in \u001b[0;36min_top_k\u001b[1;34m(predictions, targets, k, name)\u001b[0m\n\u001b[0;32m   2676\u001b[0m   \"\"\"\n\u001b[0;32m   2677\u001b[0m   \u001b[1;32mwith\u001b[0m \u001b[0mops\u001b[0m\u001b[1;33m.\u001b[0m\u001b[0mname_scope\u001b[0m\u001b[1;33m(\u001b[0m\u001b[0mname\u001b[0m\u001b[1;33m,\u001b[0m \u001b[1;34m\"in_top_k\"\u001b[0m\u001b[1;33m)\u001b[0m\u001b[1;33m:\u001b[0m\u001b[1;33m\u001b[0m\u001b[0m\n\u001b[1;32m-> 2678\u001b[1;33m     \u001b[1;32mreturn\u001b[0m \u001b[0mgen_nn_ops\u001b[0m\u001b[1;33m.\u001b[0m\u001b[0min_top_kv2\u001b[0m\u001b[1;33m(\u001b[0m\u001b[0mpredictions\u001b[0m\u001b[1;33m,\u001b[0m \u001b[0mtargets\u001b[0m\u001b[1;33m,\u001b[0m \u001b[0mk\u001b[0m\u001b[1;33m,\u001b[0m \u001b[0mname\u001b[0m\u001b[1;33m=\u001b[0m\u001b[0mname\u001b[0m\u001b[1;33m)\u001b[0m\u001b[1;33m\u001b[0m\u001b[0m\n\u001b[0m",
      "\u001b[1;32mC:\\ProgramData\\Anaconda3\\lib\\site-packages\\tensorflow\\python\\ops\\gen_nn_ops.py\u001b[0m in \u001b[0;36min_top_kv2\u001b[1;34m(predictions, targets, k, name)\u001b[0m\n\u001b[0;32m   4649\u001b[0m   \u001b[1;32mif\u001b[0m \u001b[0m_ctx\u001b[0m \u001b[1;32mis\u001b[0m \u001b[1;32mNone\u001b[0m \u001b[1;32mor\u001b[0m \u001b[1;32mnot\u001b[0m \u001b[0m_ctx\u001b[0m\u001b[1;33m.\u001b[0m\u001b[0m_eager_context\u001b[0m\u001b[1;33m.\u001b[0m\u001b[0mis_eager\u001b[0m\u001b[1;33m:\u001b[0m\u001b[1;33m\u001b[0m\u001b[0m\n\u001b[0;32m   4650\u001b[0m     _, _, _op = _op_def_lib._apply_op_helper(\n\u001b[1;32m-> 4651\u001b[1;33m         \"InTopKV2\", predictions=predictions, targets=targets, k=k, name=name)\n\u001b[0m\u001b[0;32m   4652\u001b[0m     \u001b[0m_result\u001b[0m \u001b[1;33m=\u001b[0m \u001b[0m_op\u001b[0m\u001b[1;33m.\u001b[0m\u001b[0moutputs\u001b[0m\u001b[1;33m[\u001b[0m\u001b[1;33m:\u001b[0m\u001b[1;33m]\u001b[0m\u001b[1;33m\u001b[0m\u001b[0m\n\u001b[0;32m   4653\u001b[0m     \u001b[0m_inputs_flat\u001b[0m \u001b[1;33m=\u001b[0m \u001b[0m_op\u001b[0m\u001b[1;33m.\u001b[0m\u001b[0minputs\u001b[0m\u001b[1;33m\u001b[0m\u001b[0m\n",
      "\u001b[1;32mC:\\ProgramData\\Anaconda3\\lib\\site-packages\\tensorflow\\python\\framework\\op_def_library.py\u001b[0m in \u001b[0;36m_apply_op_helper\u001b[1;34m(self, op_type_name, name, **keywords)\u001b[0m\n\u001b[0;32m    607\u001b[0m               _SatisfiesTypeConstraint(base_type,\n\u001b[0;32m    608\u001b[0m                                        \u001b[0m_Attr\u001b[0m\u001b[1;33m(\u001b[0m\u001b[0mop_def\u001b[0m\u001b[1;33m,\u001b[0m \u001b[0minput_arg\u001b[0m\u001b[1;33m.\u001b[0m\u001b[0mtype_attr\u001b[0m\u001b[1;33m)\u001b[0m\u001b[1;33m,\u001b[0m\u001b[1;33m\u001b[0m\u001b[0m\n\u001b[1;32m--> 609\u001b[1;33m                                        param_name=input_name)\n\u001b[0m\u001b[0;32m    610\u001b[0m             \u001b[0mattrs\u001b[0m\u001b[1;33m[\u001b[0m\u001b[0minput_arg\u001b[0m\u001b[1;33m.\u001b[0m\u001b[0mtype_attr\u001b[0m\u001b[1;33m]\u001b[0m \u001b[1;33m=\u001b[0m \u001b[0mattr_value\u001b[0m\u001b[1;33m\u001b[0m\u001b[0m\n\u001b[0;32m    611\u001b[0m             \u001b[0minferred_from\u001b[0m\u001b[1;33m[\u001b[0m\u001b[0minput_arg\u001b[0m\u001b[1;33m.\u001b[0m\u001b[0mtype_attr\u001b[0m\u001b[1;33m]\u001b[0m \u001b[1;33m=\u001b[0m \u001b[0minput_name\u001b[0m\u001b[1;33m\u001b[0m\u001b[0m\n",
      "\u001b[1;32mC:\\ProgramData\\Anaconda3\\lib\\site-packages\\tensorflow\\python\\framework\\op_def_library.py\u001b[0m in \u001b[0;36m_SatisfiesTypeConstraint\u001b[1;34m(dtype, attr_def, param_name)\u001b[0m\n\u001b[0;32m     58\u001b[0m           \u001b[1;34m\"allowed values: %s\"\u001b[0m \u001b[1;33m%\u001b[0m\u001b[1;33m\u001b[0m\u001b[0m\n\u001b[0;32m     59\u001b[0m           (param_name, dtypes.as_dtype(dtype).name,\n\u001b[1;32m---> 60\u001b[1;33m            \", \".join(dtypes.as_dtype(x).name for x in allowed_list)))\n\u001b[0m\u001b[0;32m     61\u001b[0m \u001b[1;33m\u001b[0m\u001b[0m\n\u001b[0;32m     62\u001b[0m \u001b[1;33m\u001b[0m\u001b[0m\n",
      "\u001b[1;31mTypeError\u001b[0m: Value passed to parameter 'targets' has DataType float32 not in list of allowed values: int32, int64"
     ]
    }
   ],
   "source": [
    "correct = tf.nn.in_top_k(prediction, y, 1)\n",
    "accuracy = tf.reduce_mean(tf.cast(correct, tf.float32))"
   ]
  },
  {
   "cell_type": "markdown",
   "metadata": {},
   "source": [
    "# Build a session"
   ]
  },
  {
   "cell_type": "code",
   "execution_count": null,
   "metadata": {},
   "outputs": [],
   "source": [
    "# 存储器\n",
    "loss_summary = tf.summary.scalar('loss', loss)\n",
    "acc_summary = tf.summary.scalar('acc', accuracy)\n",
    "\n",
    "merged = tf.summary.merge_all()\n",
    "\n",
    "# 写出到磁盘上\n",
    "log_dir = '../mnist_models'\n",
    "file_writer = tf.summary.FileWriter(log_dir, tf.get_default_graph())\n",
    "\n",
    "model_path = '../mnist_models'\n",
    "saver = tf.train.Saver()"
   ]
  },
  {
   "cell_type": "code",
   "execution_count": null,
   "metadata": {},
   "outputs": [],
   "source": [
    "init = tf.global_variables_initializer()\n",
    "\n",
    "n_steps = img_height\n",
    "n_inputs = img_width\n",
    "\n",
    "with tf.Session() as sess:\n",
    "    pred = prediction.eval()\n",
    "    \n",
    "    sess.run(init)\n",
    "#     saver.restore(sess, model_path)\n",
    "    \n",
    "    for epoch in range(n_epochs):\n",
    "        \n",
    "        # train\n",
    "        x_batch, y_batch = mnist.train.next_batch(batch_size)\n",
    "        x_batch_rnn = np.reshape(x_batch, [-1, n_steps, n_inputs])\n",
    "        merged_str, train_acc, _ = sess.run(\n",
    "            [merged, accuracy, train], \n",
    "            feed_dict = {x:x_batch_rnn, y:y_batch})\n",
    "        \n",
    "        # test\n",
    "        x_batch, y_batch = mnist.test.next_batch(batch_size)\n",
    "        x_batch_rnn = np.reshape(x_batch, [-1, n_steps, n_inputs])\n",
    "        test_acc = sess.run(accuracy, \n",
    "                            feed_dict = {x:x_batch_rnn, y:y_batch})\n",
    "        \n",
    "        file_writer.add_summary(merged_str, epoch)\n",
    "        \n",
    "        print(\"epoch: \", str(epoch), \"; train_acc: \", str(train_acc),\n",
    "             \"; test_acc: \", str(test_acc))\n",
    "        \n",
    "        if epoch % 100 == 0:\n",
    "            saver.save(sess, model_path)\n",
    "    \n",
    "    file_writer.close( )    "
   ]
  },
  {
   "cell_type": "code",
   "execution_count": 33,
   "metadata": {},
   "outputs": [
    {
     "data": {
      "text/plain": [
       "array([7, 3, 4, ..., 5, 6, 8], dtype=uint8)"
      ]
     },
     "execution_count": 33,
     "metadata": {},
     "output_type": "execute_result"
    }
   ],
   "source": [
    "mnist.train.labels"
   ]
  },
  {
   "cell_type": "code",
   "execution_count": null,
   "metadata": {},
   "outputs": [],
   "source": []
  },
  {
   "cell_type": "code",
   "execution_count": null,
   "metadata": {},
   "outputs": [],
   "source": []
  },
  {
   "cell_type": "code",
   "execution_count": null,
   "metadata": {},
   "outputs": [],
   "source": []
  },
  {
   "cell_type": "code",
   "execution_count": null,
   "metadata": {},
   "outputs": [],
   "source": []
  }
 ],
 "metadata": {
  "kernelspec": {
   "display_name": "Python 3",
   "language": "python",
   "name": "python3"
  },
  "language_info": {
   "codemirror_mode": {
    "name": "ipython",
    "version": 3
   },
   "file_extension": ".py",
   "mimetype": "text/x-python",
   "name": "python",
   "nbconvert_exporter": "python",
   "pygments_lexer": "ipython3",
   "version": "3.6.4"
  }
 },
 "nbformat": 4,
 "nbformat_minor": 2
}
